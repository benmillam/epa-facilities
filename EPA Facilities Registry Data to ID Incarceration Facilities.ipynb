{
 "cells": [
  {
   "cell_type": "markdown",
   "metadata": {},
   "source": [
    "<a id=\"top\"></a>\n",
    "# Goal: Identify all EPA facilities related to incarceration.\n",
    "\n",
    "### Background\n",
    "EPA 'facilities' (sites or places) subject to environmental regulation are identified across programs in various databases by a REGISTRY_ID.\n",
    "\n",
    "This notebook explores how we might identify all facilities related to incarceration, to get a list of REGISTRY_ID for use in querying other data sources.\n",
    "\n",
    "### Data Source\n",
    "Facility data are maintained by the EPA's [Facility Registry Services (FRS)](https://www.epa.gov/frs).\n",
    "\n",
    "This notebook explores the [national 'single file CSV'](https://www.epa.gov/frs/epa-frs-facilities-state-single-file-csv-download) download of FRS facility data on 4.1 million facilities, an export from this larger [facility data model](https://www.epa.gov/frs/frs-sub-facility-data-model).\n",
    "\n",
    "### Recommendations and Summary\n",
    "\n",
    "#### Recommendations\n",
    "- we cannot programatically ID all incarceration facilities from these 4.1 million records, using this dataset's features\n",
    "- we'll likely need to combine programmatic approaches with manual review/coding\n",
    "- a list of known incarceration sites (such as [this one from Homeland Security](https://hifld-geoplatform.opendata.arcgis.com/datasets/2d6109d4127d458eaf0958e4c5296b67_0)) may be useful as a starting point\n",
    "- another approach is to start from the FRS data here and use reasonable search criteria to ID as many carceral facilities as possible, without matching to a known list (update: we've since learned that in fact many prisons are not registered with the EPA)\n",
    "- even with a list of known incarceration sites, EPA 'facilities' may include sites and places beyond the 'storefront' locations with recognizable names (e.g. underwater tanks, laundry facilities)\n",
    "\n",
    "\n",
    "#### Summary\n",
    "Based on the available data fields, this notebook explores some possible ways to ID incarceration facilities:\n",
    "\n",
    "(hyperlinks go to corresponding notebook section)\n",
    "\n",
    "- [NAICS/SIC codes](#industrycodes)\n",
    "    - 66% of 4.1 million records have no NAICS or SIC code\n",
    "    - Some incarceration-related facilities are coded with incorrect or nonintuitive NAICS/SIC codes\n",
    "    - 1,527 records are coded as 'CORRECTIONAL INSTITUTIONS'\n",
    "\n",
    "\n",
    "- [Facility name (string matching)](#stringmatching)\n",
    "\t- (e.g. ID record if name has 'CORRECTIONAL' or 'JAIL' etc.)\n",
    "\t- liberal match strings are needed for sensitivity, increasing false positives\n",
    "\t\t- e.g. Facility name 'CCI' for California Correctional Institution, returns 'VACCINATION' etc.\n",
    "\t- many facilities use unintuitve abbreviations\n",
    "\t- a strict list of match strings ID'd 2,845 facilities not coded by NAICS/SIC (still some false positives)\n",
    "    - (**update**: our group performed preliminary probabilistic fuzzy matching in R via RecordLinkage, between ECHO/FRS data and [HIFLD](https://hifld-geoplatform.opendata.arcgis.com/datasets/2d6109d4127d458eaf0958e4c5296b67_0), using several fields (including name); results still required manual coding, likely suffer from many prisons just not being registered with EPA)\n",
    "\n",
    "\n",
    "- [Location: latitude/longitude](#latlong)\n",
    "    - (based on offline discussions of spatial joins with a non-EPA source of incarceration facility GIS boundaries)\n",
    "    - 28% of records have no lat/long\n",
    "    - long/lat records are collected by methods of varying accuracy, including:\n",
    "        - street address, zip code centroid, unknown\n",
    "    - looking at long/lat records for NAICS/SIC coded incarceration facilities, we still find long/lat methods of varying accuracy\n",
    "    - (**update**: I performed a preliminary spatial join in R using FRS and [HIFLD](https://hifld-geoplatform.opendata.arcgis.com/datasets/2d6109d4127d458eaf0958e4c5296b67_0) geodatabase files; results still required manual coding, likely suffer from many prisons just not being registered with EPA)\n",
    "\n",
    "\n",
    "- [Location: address](#address)\n",
    "    - street address matching in general is fraught\n",
    "    - 11% of records have no street address (missing)\n",
    "    - street address values vary in quality\n",
    "\n",
    "\n",
    "- Other fields (not fully explored here)\n",
    "    - (unlikely to yield much, maybe to eliminate records)\n",
    "    - EPA program type ('INTEREST_TYPES')\n",
    "    - Site type name ('SITE_TYPE_NAME')"
   ]
  },
  {
   "cell_type": "markdown",
   "metadata": {},
   "source": [
    "## Setup Notebook"
   ]
  },
  {
   "cell_type": "code",
   "execution_count": 1,
   "metadata": {},
   "outputs": [],
   "source": [
    "import pandas as pd\n",
    "import numpy as np"
   ]
  },
  {
   "cell_type": "code",
   "execution_count": 2,
   "metadata": {},
   "outputs": [],
   "source": [
    "#our dataset has 39 columns, display all if desired\n",
    "pd.set_option('display.max_columns', None)\n",
    "\n",
    "#display all output not just last\n",
    "#https://stackoverflow.com/questions/36786722/how-to-display-full-output-in-jupyter-not-only-last-result\n",
    "from IPython.core.interactiveshell import InteractiveShell\n",
    "InteractiveShell.ast_node_interactivity = \"all\""
   ]
  },
  {
   "cell_type": "markdown",
   "metadata": {},
   "source": [
    "## Load Data, Inspect Columns\n",
    "There are 4,147,930 records and 39 columns.\n",
    "\n",
    "Column descriptions are included in the [data source](https://www.epa.gov/frs/epa-frs-facilities-state-single-file-csv-download) zip file as PDF documentation."
   ]
  },
  {
   "cell_type": "code",
   "execution_count": 3,
   "metadata": {},
   "outputs": [
    {
     "name": "stderr",
     "output_type": "stream",
     "text": [
      "C:\\Users\\Ben\\Anaconda3\\lib\\site-packages\\IPython\\core\\interactiveshell.py:3020: DtypeWarning: Columns (4,5,13,14,15,16,21,24,27,29,30) have mixed types. Specify dtype option on import or set low_memory=False.\n",
      "  interactivity=interactivity, compiler=compiler, result=result)\n"
     ]
    }
   ],
   "source": [
    "fac = pd.read_csv('NATIONAL_SINGLE.CSV')"
   ]
  },
  {
   "cell_type": "code",
   "execution_count": 9,
   "metadata": {},
   "outputs": [
    {
     "name": "stdout",
     "output_type": "stream",
     "text": [
      "<class 'pandas.core.frame.DataFrame'>\n",
      "RangeIndex: 4147930 entries, 0 to 4147929\n",
      "Data columns (total 39 columns):\n",
      "FRS_FACILITY_DETAIL_REPORT_URL    object\n",
      "REGISTRY_ID                       int64\n",
      "PRIMARY_NAME                      object\n",
      "LOCATION_ADDRESS                  object\n",
      "SUPPLEMENTAL_LOCATION             object\n",
      "CITY_NAME                         object\n",
      "COUNTY_NAME                       object\n",
      "FIPS_CODE                         object\n",
      "STATE_CODE                        object\n",
      "STATE_NAME                        object\n",
      "COUNTRY_NAME                      object\n",
      "POSTAL_CODE                       object\n",
      "FEDERAL_FACILITY_CODE             object\n",
      "FEDERAL_AGENCY_NAME               object\n",
      "TRIBAL_LAND_CODE                  object\n",
      "TRIBAL_LAND_NAME                  object\n",
      "CONGRESSIONAL_DIST_NUM            object\n",
      "CENSUS_BLOCK_CODE                 float64\n",
      "HUC_CODE                          float64\n",
      "EPA_REGION_CODE                   float64\n",
      "SITE_TYPE_NAME                    object\n",
      "LOCATION_DESCRIPTION              object\n",
      "CREATE_DATE                       object\n",
      "UPDATE_DATE                       object\n",
      "US_MEXICO_BORDER_IND              object\n",
      "PGM_SYS_ACRNMS                    object\n",
      "INTEREST_TYPES                    object\n",
      "NAICS_CODES                       object\n",
      "NAICS_CODE_DESCRIPTIONS           object\n",
      "SIC_CODES                         object\n",
      "SIC_CODE_DESCRIPTIONS             object\n",
      "LATITUDE83                        float64\n",
      "LONGITUDE83                       float64\n",
      "CONVEYOR                          object\n",
      "COLLECT_DESC                      object\n",
      "ACCURACY_VALUE                    float64\n",
      "REF_POINT_DESC                    object\n",
      "HDATUM_DESC                       object\n",
      "SOURCE_DESC                       float64\n",
      "dtypes: float64(7), int64(1), object(31)\n",
      "memory usage: 1.2+ GB\n"
     ]
    }
   ],
   "source": [
    "fac.info()"
   ]
  },
  {
   "cell_type": "markdown",
   "metadata": {},
   "source": [
    "Confirming REGISTRY_ID is a unique key (REGISTRY_ID is not unique in the [FRS geodatabase files](https://www.epa.gov/frs/geospatial-data-download-service) used subsequently for a spatial join); where instead the key was REGISTRY_ID + statute):"
   ]
  },
  {
   "cell_type": "code",
   "execution_count": 5,
   "metadata": {},
   "outputs": [
    {
     "data": {
      "text/plain": [
       "0"
      ]
     },
     "execution_count": 5,
     "metadata": {},
     "output_type": "execute_result"
    }
   ],
   "source": [
    "#confirm Registry IDs are unique\n",
    "sum(fac['REGISTRY_ID'].duplicated())"
   ]
  },
  {
   "cell_type": "markdown",
   "metadata": {},
   "source": [
    "<a id=\"industrycodes\"></a>\n",
    "## Using NAICS/SIC codes to ID facilities related to incarceration\n",
    "### Notes\n",
    "    - here are some examples of facilities NAICS/SIC coded as Correctional Institutions but with uninformative/unintuitive names: AUBURN RESIDENTIAL CENTER, COUNTY OF CUMBERLAND, NJDOC ADMIN OFFICES, CCI TEHACHAPI, FIRE CAMP #11NA ACTON, UNKNOWN, 3600 GUARD ROAD\n",
    "\n",
    "<a href=\"#top\">Back to Top of Notebook</a>\n",
    "\n",
    "##### Inspect NAICS / SIC codes, how many missing values?\n",
    "We find 66% of our 4+ million records have no NAICS or SIC code. Some records are assigned more than one code."
   ]
  },
  {
   "cell_type": "code",
   "execution_count": 35,
   "metadata": {},
   "outputs": [
    {
     "data": {
      "text/plain": [
       "NaN       3291831\n",
       "211111      35958\n",
       "811111      31210\n",
       "811121      24572\n",
       "812320      18737\n",
       "447110      18308\n",
       "221122      12471\n",
       "211112      12221\n",
       "611110      10528\n",
       "562212      10137\n",
       "Name: NAICS_CODES, dtype: int64"
      ]
     },
     "execution_count": 35,
     "metadata": {},
     "output_type": "execute_result"
    },
    {
     "data": {
      "text/plain": [
       "424710, 611310                                                    1\n",
       "321910, 321918, 337110, 337122                                    1\n",
       "023835, 337110                                                    1\n",
       "336320, 336370                                                    1\n",
       "811113, 811310                                                    1\n",
       "111998, 713110                                                    1\n",
       "211111, 211120, 213111, 213112, 486910                            1\n",
       "044111, 111331                                                    1\n",
       "311220, 332321, 812320                                            1\n",
       "211111, 211120, 211130, 213111, 213112, 221320, 237120, 424710    1\n",
       "Name: NAICS_CODES, dtype: int64"
      ]
     },
     "execution_count": 35,
     "metadata": {},
     "output_type": "execute_result"
    }
   ],
   "source": [
    "fac['NAICS_CODES'].value_counts(dropna=False).head(10)\n",
    "fac['NAICS_CODES'].value_counts(dropna=False).tail(10)"
   ]
  },
  {
   "cell_type": "code",
   "execution_count": 36,
   "metadata": {},
   "outputs": [
    {
     "data": {
      "text/plain": [
       "NaN     3108299\n",
       "1311      52920\n",
       "9999      49754\n",
       "5541      47051\n",
       "4952      41323\n",
       "1629      28699\n",
       "1521      18662\n",
       "7216      18440\n",
       "1611      17745\n",
       "7532      14439\n",
       "Name: SIC_CODES, dtype: int64"
      ]
     },
     "execution_count": 36,
     "metadata": {},
     "output_type": "execute_result"
    },
    {
     "data": {
      "text/plain": [
       "3341, 3399, 7389                                        1\n",
       "2851, 2869, 2899, 2944, 4225                            1\n",
       "0211, 0241, 1442, 3625, 4011, 4226, 4911, 4952, 5541    1\n",
       "0711, 0782                                              1\n",
       "4899, 7376                                              1\n",
       "2834, 2842, 2899, 5122                                  1\n",
       "3061, 3069, 3949                                        1\n",
       "4212, 4225, 7513                                        1\n",
       "2281, 2282, 2822, 9999                                  1\n",
       "3471, 3714, 4225                                        1\n",
       "Name: SIC_CODES, dtype: int64"
      ]
     },
     "execution_count": 36,
     "metadata": {},
     "output_type": "execute_result"
    }
   ],
   "source": [
    "fac['SIC_CODES'].value_counts(dropna=False).head(10)\n",
    "fac['SIC_CODES'].value_counts(dropna=False).tail(10)"
   ]
  },
  {
   "cell_type": "code",
   "execution_count": 4,
   "metadata": {},
   "outputs": [
    {
     "data": {
      "text/plain": [
       "0.6606644760157476"
      ]
     },
     "execution_count": 4,
     "metadata": {},
     "output_type": "execute_result"
    }
   ],
   "source": [
    "missing_naics_and_sic = pd.isna(fac['NAICS_CODES']) & pd.isna(fac['SIC_CODES'])\n",
    "sum(missing_naics_and_sic)/fac.shape[0]"
   ]
  },
  {
   "cell_type": "markdown",
   "metadata": {},
   "source": [
    "##### How many records have the NAICS / SIC codes for 'CORRECTIONAL INSTITUTION'?\n",
    "1,527 records are coded as CORRECTIONAL INSTITUTIONS with NAICS code (922140) or SIC code (9223)."
   ]
  },
  {
   "cell_type": "code",
   "execution_count": 5,
   "metadata": {},
   "outputs": [
    {
     "data": {
      "text/plain": [
       "982"
      ]
     },
     "execution_count": 5,
     "metadata": {},
     "output_type": "execute_result"
    }
   ],
   "source": [
    "#https://pandas.pydata.org/pandas-docs/stable/reference/api/pandas.Series.str.contains.html\n",
    "#not exact, returns more results, need inspect for false positives\n",
    "naics_correctional = fac['NAICS_CODES'].str.contains('922140', na=False, regex=False) #a logical Series\n",
    "sum(naics_correctional)"
   ]
  },
  {
   "cell_type": "code",
   "execution_count": 6,
   "metadata": {},
   "outputs": [
    {
     "data": {
      "text/plain": [
       "1274"
      ]
     },
     "execution_count": 6,
     "metadata": {},
     "output_type": "execute_result"
    }
   ],
   "source": [
    "#https://pandas.pydata.org/pandas-docs/stable/reference/api/pandas.Series.str.contains.html\n",
    "#not exact, returns more results, need inspect for false positives\n",
    "sic_correctional = fac['SIC_CODES'].str.contains('9223', na=False, regex=False) #a logical Series\n",
    "sum(sic_correctional)"
   ]
  },
  {
   "cell_type": "code",
   "execution_count": 7,
   "metadata": {},
   "outputs": [
    {
     "data": {
      "text/plain": [
       "1527"
      ]
     },
     "execution_count": 7,
     "metadata": {},
     "output_type": "execute_result"
    }
   ],
   "source": [
    "naics_or_sic_correctional = naics_correctional | sic_correctional\n",
    "sum(naics_or_sic_correctional)"
   ]
  },
  {
   "cell_type": "code",
   "execution_count": 9,
   "metadata": {},
   "outputs": [
    {
     "data": {
      "text/html": [
       "<div>\n",
       "<style scoped>\n",
       "    .dataframe tbody tr th:only-of-type {\n",
       "        vertical-align: middle;\n",
       "    }\n",
       "\n",
       "    .dataframe tbody tr th {\n",
       "        vertical-align: top;\n",
       "    }\n",
       "\n",
       "    .dataframe thead th {\n",
       "        text-align: right;\n",
       "    }\n",
       "</style>\n",
       "<table border=\"1\" class=\"dataframe\">\n",
       "  <thead>\n",
       "    <tr style=\"text-align: right;\">\n",
       "      <th></th>\n",
       "      <th>REGISTRY_ID</th>\n",
       "      <th>PRIMARY_NAME</th>\n",
       "      <th>STATE_NAME</th>\n",
       "      <th>NAICS_CODES</th>\n",
       "      <th>NAICS_CODE_DESCRIPTIONS</th>\n",
       "      <th>SIC_CODES</th>\n",
       "      <th>SIC_CODE_DESCRIPTIONS</th>\n",
       "    </tr>\n",
       "  </thead>\n",
       "  <tbody>\n",
       "    <tr>\n",
       "      <th>612543</th>\n",
       "      <td>110055834628</td>\n",
       "      <td>LASSEN COUNTY JUVENILE DETENTION FACILITY</td>\n",
       "      <td>CALIFORNIA</td>\n",
       "      <td>922150</td>\n",
       "      <td>PAROLE OFFICES AND PROBATION OFFICES.</td>\n",
       "      <td>9223</td>\n",
       "      <td>CORRECTIONAL INSTITUTIONS</td>\n",
       "    </tr>\n",
       "    <tr>\n",
       "      <th>1239863</th>\n",
       "      <td>110018362831</td>\n",
       "      <td>METROPOLITAN CORRECTIONAL CTR</td>\n",
       "      <td>ILLINOIS</td>\n",
       "      <td>NaN</td>\n",
       "      <td>NaN</td>\n",
       "      <td>9223</td>\n",
       "      <td>CORRECTIONAL INSTITUTIONS</td>\n",
       "    </tr>\n",
       "    <tr>\n",
       "      <th>1788892</th>\n",
       "      <td>110019857760</td>\n",
       "      <td>DPSCS/DCCFM - CENTRAL LAUNDRY FACILITY</td>\n",
       "      <td>MARYLAND</td>\n",
       "      <td>922140, 922190</td>\n",
       "      <td>CORRECTIONAL INSTITUTIONS., OTHER JUSTICE, PUB...</td>\n",
       "      <td>7211, 9223</td>\n",
       "      <td>CORRECTIONAL INSTITUTIONS, POWER LAUNDRIES, FA...</td>\n",
       "    </tr>\n",
       "    <tr>\n",
       "      <th>3907985</th>\n",
       "      <td>110017286257</td>\n",
       "      <td>VDOC - BLAND CORRECTIONAL CENTER</td>\n",
       "      <td>VIRGINIA</td>\n",
       "      <td>922140</td>\n",
       "      <td>CORRECTIONAL INSTITUTIONS.</td>\n",
       "      <td>4952, 9223, OWNE</td>\n",
       "      <td>CORRECTIONAL INSTITUTIONS, SEWERAGE SYSTEMS</td>\n",
       "    </tr>\n",
       "    <tr>\n",
       "      <th>1580201</th>\n",
       "      <td>110044952548</td>\n",
       "      <td>LFUCG - FAYETTE CO DETENTION CENTER</td>\n",
       "      <td>KENTUCKY</td>\n",
       "      <td>NaN</td>\n",
       "      <td>NaN</td>\n",
       "      <td>9223</td>\n",
       "      <td>CORRECTIONAL INSTITUTIONS</td>\n",
       "    </tr>\n",
       "    <tr>\n",
       "      <th>3929756</th>\n",
       "      <td>110008201659</td>\n",
       "      <td>DEEP MEADOW CORRECTIONAL CENTER</td>\n",
       "      <td>VIRGINIA</td>\n",
       "      <td>NaN</td>\n",
       "      <td>NaN</td>\n",
       "      <td>4911, 9223, OWNE</td>\n",
       "      <td>CORRECTIONAL INSTITUTIONS, ELECTRIC SERVICES</td>\n",
       "    </tr>\n",
       "    <tr>\n",
       "      <th>886214</th>\n",
       "      <td>110005597755</td>\n",
       "      <td>OSCEOLA COUNTY</td>\n",
       "      <td>FLORIDA</td>\n",
       "      <td>922140</td>\n",
       "      <td>CORRECTIONAL INSTITUTIONS.</td>\n",
       "      <td>9223</td>\n",
       "      <td>CORRECTIONAL INSTITUTIONS</td>\n",
       "    </tr>\n",
       "    <tr>\n",
       "      <th>270167</th>\n",
       "      <td>110002811994</td>\n",
       "      <td>CALIF. DEPT OF CORRECTIONS - PELICAN BAY PRISON</td>\n",
       "      <td>CALIFORNIA</td>\n",
       "      <td>922140</td>\n",
       "      <td>CORRECTIONAL INSTITUTIONS.</td>\n",
       "      <td>NaN</td>\n",
       "      <td>NaN</td>\n",
       "    </tr>\n",
       "    <tr>\n",
       "      <th>4103894</th>\n",
       "      <td>110024429698</td>\n",
       "      <td>UNITED STATE PENITENTIARY - HAZELTON</td>\n",
       "      <td>WEST VIRGINIA</td>\n",
       "      <td>922140</td>\n",
       "      <td>CORRECTIONAL INSTITUTIONS.</td>\n",
       "      <td>9223</td>\n",
       "      <td>CORRECTIONAL INSTITUTIONS</td>\n",
       "    </tr>\n",
       "    <tr>\n",
       "      <th>782781</th>\n",
       "      <td>110001732153</td>\n",
       "      <td>RADGOWSKI/CORRIGAN CORRECTIONAL INSTITUTE</td>\n",
       "      <td>CONNECTICUT</td>\n",
       "      <td>922140</td>\n",
       "      <td>CORRECTIONAL INSTITUTIONS.</td>\n",
       "      <td>9223, OWNE</td>\n",
       "      <td>CORRECTIONAL INSTITUTIONS</td>\n",
       "    </tr>\n",
       "  </tbody>\n",
       "</table>\n",
       "</div>"
      ],
      "text/plain": [
       "          REGISTRY_ID                                     PRIMARY_NAME  \\\n",
       "612543   110055834628        LASSEN COUNTY JUVENILE DETENTION FACILITY   \n",
       "1239863  110018362831                    METROPOLITAN CORRECTIONAL CTR   \n",
       "1788892  110019857760           DPSCS/DCCFM - CENTRAL LAUNDRY FACILITY   \n",
       "3907985  110017286257                 VDOC - BLAND CORRECTIONAL CENTER   \n",
       "1580201  110044952548              LFUCG - FAYETTE CO DETENTION CENTER   \n",
       "3929756  110008201659                  DEEP MEADOW CORRECTIONAL CENTER   \n",
       "886214   110005597755                                   OSCEOLA COUNTY   \n",
       "270167   110002811994  CALIF. DEPT OF CORRECTIONS - PELICAN BAY PRISON   \n",
       "4103894  110024429698             UNITED STATE PENITENTIARY - HAZELTON   \n",
       "782781   110001732153        RADGOWSKI/CORRIGAN CORRECTIONAL INSTITUTE   \n",
       "\n",
       "            STATE_NAME     NAICS_CODES  \\\n",
       "612543      CALIFORNIA          922150   \n",
       "1239863       ILLINOIS             NaN   \n",
       "1788892       MARYLAND  922140, 922190   \n",
       "3907985       VIRGINIA          922140   \n",
       "1580201       KENTUCKY             NaN   \n",
       "3929756       VIRGINIA             NaN   \n",
       "886214         FLORIDA          922140   \n",
       "270167      CALIFORNIA          922140   \n",
       "4103894  WEST VIRGINIA          922140   \n",
       "782781     CONNECTICUT          922140   \n",
       "\n",
       "                                   NAICS_CODE_DESCRIPTIONS         SIC_CODES  \\\n",
       "612543               PAROLE OFFICES AND PROBATION OFFICES.              9223   \n",
       "1239863                                                NaN              9223   \n",
       "1788892  CORRECTIONAL INSTITUTIONS., OTHER JUSTICE, PUB...        7211, 9223   \n",
       "3907985                         CORRECTIONAL INSTITUTIONS.  4952, 9223, OWNE   \n",
       "1580201                                                NaN              9223   \n",
       "3929756                                                NaN  4911, 9223, OWNE   \n",
       "886214                          CORRECTIONAL INSTITUTIONS.              9223   \n",
       "270167                          CORRECTIONAL INSTITUTIONS.               NaN   \n",
       "4103894                         CORRECTIONAL INSTITUTIONS.              9223   \n",
       "782781                          CORRECTIONAL INSTITUTIONS.        9223, OWNE   \n",
       "\n",
       "                                     SIC_CODE_DESCRIPTIONS  \n",
       "612543                           CORRECTIONAL INSTITUTIONS  \n",
       "1239863                          CORRECTIONAL INSTITUTIONS  \n",
       "1788892  CORRECTIONAL INSTITUTIONS, POWER LAUNDRIES, FA...  \n",
       "3907985        CORRECTIONAL INSTITUTIONS, SEWERAGE SYSTEMS  \n",
       "1580201                          CORRECTIONAL INSTITUTIONS  \n",
       "3929756       CORRECTIONAL INSTITUTIONS, ELECTRIC SERVICES  \n",
       "886214                           CORRECTIONAL INSTITUTIONS  \n",
       "270167                                                 NaN  \n",
       "4103894                          CORRECTIONAL INSTITUTIONS  \n",
       "782781                           CORRECTIONAL INSTITUTIONS  "
      ]
     },
     "execution_count": 9,
     "metadata": {},
     "output_type": "execute_result"
    }
   ],
   "source": [
    "#Column subset to inspect, for convenienct reuse\n",
    "industry_code_columns = ['REGISTRY_ID','PRIMARY_NAME','STATE_NAME','NAICS_CODES','NAICS_CODE_DESCRIPTIONS','SIC_CODES','SIC_CODE_DESCRIPTIONS']\n",
    "fac[naics_or_sic_correctional].sample(n=10)[industry_code_columns]"
   ]
  },
  {
   "cell_type": "markdown",
   "metadata": {},
   "source": [
    "##### How many records have NAICS / SIC that are something other than 'CORRECTIONAL INSTITUTION'?\n",
    "\n",
    "1,406,013.\n",
    "Justification: in case we wanted to filter out records coded as not correctional (below in 'string matching' section we'll find some other NAICS/SIC coded records appear to be incarceration, so not 100% reliable)."
   ]
  },
  {
   "cell_type": "code",
   "execution_count": 12,
   "metadata": {},
   "outputs": [
    {
     "data": {
      "text/plain": [
       "(1406013, 39)"
      ]
     },
     "execution_count": 12,
     "metadata": {},
     "output_type": "execute_result"
    },
    {
     "data": {
      "text/html": [
       "<div>\n",
       "<style scoped>\n",
       "    .dataframe tbody tr th:only-of-type {\n",
       "        vertical-align: middle;\n",
       "    }\n",
       "\n",
       "    .dataframe tbody tr th {\n",
       "        vertical-align: top;\n",
       "    }\n",
       "\n",
       "    .dataframe thead th {\n",
       "        text-align: right;\n",
       "    }\n",
       "</style>\n",
       "<table border=\"1\" class=\"dataframe\">\n",
       "  <thead>\n",
       "    <tr style=\"text-align: right;\">\n",
       "      <th></th>\n",
       "      <th>REGISTRY_ID</th>\n",
       "      <th>PRIMARY_NAME</th>\n",
       "      <th>STATE_NAME</th>\n",
       "      <th>NAICS_CODES</th>\n",
       "      <th>NAICS_CODE_DESCRIPTIONS</th>\n",
       "      <th>SIC_CODES</th>\n",
       "      <th>SIC_CODE_DESCRIPTIONS</th>\n",
       "    </tr>\n",
       "  </thead>\n",
       "  <tbody>\n",
       "    <tr>\n",
       "      <th>215216</th>\n",
       "      <td>110002915123</td>\n",
       "      <td>THE VONS COMPANIES INC</td>\n",
       "      <td>CALIFORNIA</td>\n",
       "      <td>445110</td>\n",
       "      <td>SUPERMARKETS AND OTHER GROCERY (EXCEPT CONVENI...</td>\n",
       "      <td>5411</td>\n",
       "      <td>GROCERY STORES</td>\n",
       "    </tr>\n",
       "    <tr>\n",
       "      <th>2197604</th>\n",
       "      <td>110042457436</td>\n",
       "      <td>ACRES OF SHADE MHP</td>\n",
       "      <td>MISSOURI</td>\n",
       "      <td>NaN</td>\n",
       "      <td>NaN</td>\n",
       "      <td>6515</td>\n",
       "      <td>OPERATORS OF RESIDENTIAL MOBILE HOME SITES</td>\n",
       "    </tr>\n",
       "    <tr>\n",
       "      <th>408070</th>\n",
       "      <td>110070452050</td>\n",
       "      <td>CISCO SYSTEMS INC- SYCAMORE II</td>\n",
       "      <td>CALIFORNIA</td>\n",
       "      <td>334418, 334613</td>\n",
       "      <td>MAGNETIC AND OPTICAL RECORDING MEDIA MANUFACTU...</td>\n",
       "      <td>NaN</td>\n",
       "      <td>NaN</td>\n",
       "    </tr>\n",
       "    <tr>\n",
       "      <th>3391334</th>\n",
       "      <td>110010260369</td>\n",
       "      <td>RICHARD AND MARY SANDERS</td>\n",
       "      <td>PENNSYLVANIA</td>\n",
       "      <td>NaN</td>\n",
       "      <td>NaN</td>\n",
       "      <td>6514</td>\n",
       "      <td>OPERATORS OF DWELLINGS OTHER THAN APARTMENT BU...</td>\n",
       "    </tr>\n",
       "    <tr>\n",
       "      <th>4004743</th>\n",
       "      <td>110015485768</td>\n",
       "      <td>SMITHS AUTO SERVICE</td>\n",
       "      <td>WASHINGTON</td>\n",
       "      <td>008111, 447190</td>\n",
       "      <td>OTHER GASOLINE STATIONS.</td>\n",
       "      <td>0753</td>\n",
       "      <td>NaN</td>\n",
       "    </tr>\n",
       "  </tbody>\n",
       "</table>\n",
       "</div>"
      ],
      "text/plain": [
       "          REGISTRY_ID                    PRIMARY_NAME    STATE_NAME  \\\n",
       "215216   110002915123          THE VONS COMPANIES INC    CALIFORNIA   \n",
       "2197604  110042457436              ACRES OF SHADE MHP      MISSOURI   \n",
       "408070   110070452050  CISCO SYSTEMS INC- SYCAMORE II    CALIFORNIA   \n",
       "3391334  110010260369        RICHARD AND MARY SANDERS  PENNSYLVANIA   \n",
       "4004743  110015485768             SMITHS AUTO SERVICE    WASHINGTON   \n",
       "\n",
       "            NAICS_CODES                            NAICS_CODE_DESCRIPTIONS  \\\n",
       "215216           445110  SUPERMARKETS AND OTHER GROCERY (EXCEPT CONVENI...   \n",
       "2197604             NaN                                                NaN   \n",
       "408070   334418, 334613  MAGNETIC AND OPTICAL RECORDING MEDIA MANUFACTU...   \n",
       "3391334             NaN                                                NaN   \n",
       "4004743  008111, 447190                           OTHER GASOLINE STATIONS.   \n",
       "\n",
       "        SIC_CODES                              SIC_CODE_DESCRIPTIONS  \n",
       "215216       5411                                     GROCERY STORES  \n",
       "2197604      6515         OPERATORS OF RESIDENTIAL MOBILE HOME SITES  \n",
       "408070        NaN                                                NaN  \n",
       "3391334      6514  OPERATORS OF DWELLINGS OTHER THAN APARTMENT BU...  \n",
       "4004743      0753                                                NaN  "
      ]
     },
     "execution_count": 12,
     "metadata": {},
     "output_type": "execute_result"
    }
   ],
   "source": [
    "not_correctional = ~missing_naics_and_sic & ~naics_or_sic_correctional\n",
    "fac[not_correctional].shape\n",
    "fac[not_correctional].sample(5)[industry_code_columns]"
   ]
  },
  {
   "cell_type": "markdown",
   "metadata": {},
   "source": [
    "<a id=\"stringmatching\"></a>\n",
    "## Using string matching (e.g. 'PRISON') in Facility Name to ID facilities\n",
    "\n",
    "<a href=\"#top\">Back to Top of Notebook</a>\n",
    "\n",
    "##### Can we use string matching into ID facilities (e.g. 'PRISON')?"
   ]
  },
  {
   "cell_type": "markdown",
   "metadata": {},
   "source": [
    "Proof of concept, we find 839 records w/ 'CORRECTIONAL' in the facility name, that aren't coded with NAICS/SIC:"
   ]
  },
  {
   "cell_type": "code",
   "execution_count": 54,
   "metadata": {},
   "outputs": [
    {
     "data": {
      "text/plain": [
       "(839, 39)"
      ]
     },
     "execution_count": 54,
     "metadata": {},
     "output_type": "execute_result"
    },
    {
     "data": {
      "text/html": [
       "<div>\n",
       "<style scoped>\n",
       "    .dataframe tbody tr th:only-of-type {\n",
       "        vertical-align: middle;\n",
       "    }\n",
       "\n",
       "    .dataframe tbody tr th {\n",
       "        vertical-align: top;\n",
       "    }\n",
       "\n",
       "    .dataframe thead th {\n",
       "        text-align: right;\n",
       "    }\n",
       "</style>\n",
       "<table border=\"1\" class=\"dataframe\">\n",
       "  <thead>\n",
       "    <tr style=\"text-align: right;\">\n",
       "      <th></th>\n",
       "      <th>REGISTRY_ID</th>\n",
       "      <th>PRIMARY_NAME</th>\n",
       "      <th>STATE_NAME</th>\n",
       "      <th>NAICS_CODES</th>\n",
       "      <th>NAICS_CODE_DESCRIPTIONS</th>\n",
       "      <th>SIC_CODES</th>\n",
       "      <th>SIC_CODE_DESCRIPTIONS</th>\n",
       "    </tr>\n",
       "  </thead>\n",
       "  <tbody>\n",
       "    <tr>\n",
       "      <th>2929917</th>\n",
       "      <td>110070516105</td>\n",
       "      <td>DIVERSEY GREAT MEADOW CORRECTIONAL FACILITY</td>\n",
       "      <td>NEW YORK</td>\n",
       "      <td>NaN</td>\n",
       "      <td>NaN</td>\n",
       "      <td>NaN</td>\n",
       "      <td>NaN</td>\n",
       "    </tr>\n",
       "    <tr>\n",
       "      <th>4097021</th>\n",
       "      <td>110012854535</td>\n",
       "      <td>THOMPSON CORRECTIONAL CENTER</td>\n",
       "      <td>WISCONSIN</td>\n",
       "      <td>NaN</td>\n",
       "      <td>NaN</td>\n",
       "      <td>NaN</td>\n",
       "      <td>NaN</td>\n",
       "    </tr>\n",
       "    <tr>\n",
       "      <th>934643</th>\n",
       "      <td>110024385761</td>\n",
       "      <td>TAYLOR CORRECTIONAL INSTITUTE</td>\n",
       "      <td>FLORIDA</td>\n",
       "      <td>NaN</td>\n",
       "      <td>NaN</td>\n",
       "      <td>NaN</td>\n",
       "      <td>NaN</td>\n",
       "    </tr>\n",
       "    <tr>\n",
       "      <th>1068364</th>\n",
       "      <td>110007490893</td>\n",
       "      <td>GA CORRECTIONAL IND METAL FAB PLT</td>\n",
       "      <td>GEORGIA</td>\n",
       "      <td>NaN</td>\n",
       "      <td>NaN</td>\n",
       "      <td>NaN</td>\n",
       "      <td>NaN</td>\n",
       "    </tr>\n",
       "    <tr>\n",
       "      <th>3952277</th>\n",
       "      <td>110068403392</td>\n",
       "      <td>SE CORRECTIONAL INSTITUTE</td>\n",
       "      <td>VERMONT</td>\n",
       "      <td>NaN</td>\n",
       "      <td>NaN</td>\n",
       "      <td>NaN</td>\n",
       "      <td>NaN</td>\n",
       "    </tr>\n",
       "  </tbody>\n",
       "</table>\n",
       "</div>"
      ],
      "text/plain": [
       "          REGISTRY_ID                                 PRIMARY_NAME STATE_NAME  \\\n",
       "2929917  110070516105  DIVERSEY GREAT MEADOW CORRECTIONAL FACILITY   NEW YORK   \n",
       "4097021  110012854535                 THOMPSON CORRECTIONAL CENTER  WISCONSIN   \n",
       "934643   110024385761                TAYLOR CORRECTIONAL INSTITUTE    FLORIDA   \n",
       "1068364  110007490893            GA CORRECTIONAL IND METAL FAB PLT    GEORGIA   \n",
       "3952277  110068403392                    SE CORRECTIONAL INSTITUTE    VERMONT   \n",
       "\n",
       "        NAICS_CODES NAICS_CODE_DESCRIPTIONS SIC_CODES SIC_CODE_DESCRIPTIONS  \n",
       "2929917         NaN                     NaN       NaN                   NaN  \n",
       "4097021         NaN                     NaN       NaN                   NaN  \n",
       "934643          NaN                     NaN       NaN                   NaN  \n",
       "1068364         NaN                     NaN       NaN                   NaN  \n",
       "3952277         NaN                     NaN       NaN                   NaN  "
      ]
     },
     "execution_count": 54,
     "metadata": {},
     "output_type": "execute_result"
    }
   ],
   "source": [
    "string_in_name = fac['PRIMARY_NAME'].str.contains('CORRECTIONAL', na=False, regex=False) #a logical Series, #tilde here is bitwise not\n",
    "fac[string_in_name & ~naics_or_sic_correctional].shape\n",
    "fac[string_in_name & ~naics_or_sic_correctional].sample(n=5)[industry_code_columns] #~ is bitwise complement operator, using with numpy boolean Series, in general use caution"
   ]
  },
  {
   "cell_type": "markdown",
   "metadata": {},
   "source": [
    "Let's try with an expanded list of strings to match.\n",
    "\n",
    "We gathered the expanded list manually from looking at NAICS/SIC coded records; at first the list was too permissive e.g. 'CCI' (California Correctional Institution) returned 'VACCINATION' etc."
   ]
  },
  {
   "cell_type": "code",
   "execution_count": 14,
   "metadata": {},
   "outputs": [],
   "source": [
    "#https://stackoverflow.com/questions/26577516/how-to-test-if-a-string-contains-one-of-the-substrings-in-a-list-in-pandas\n",
    "# the first 'searchfor' list was too permissive e.g. 'DOC' returned DOCK, too many false positives\n",
    "#searchfor = ['PRISON','CORR','DETENTION','JAIL','JUSTICE','REHAB','PENITENTIARY','SHERIFF','JUVENILE','CCI','COLONY','MCI','TDCJ','SCI','DOC']\n",
    "searchfor = ['PRISON','CORRECTIONAL','DETENTION','JAIL','PENITENTIARY']\n",
    "strings_in_name = fac['PRIMARY_NAME'].str.contains('|'.join(searchfor), na=False, regex=True)"
   ]
  },
  {
   "cell_type": "code",
   "execution_count": 48,
   "metadata": {},
   "outputs": [
    {
     "data": {
      "text/plain": [
       "(4147930, 39)"
      ]
     },
     "execution_count": 48,
     "metadata": {},
     "output_type": "execute_result"
    },
    {
     "data": {
      "text/plain": [
       "(2845, 39)"
      ]
     },
     "execution_count": 48,
     "metadata": {},
     "output_type": "execute_result"
    },
    {
     "data": {
      "text/html": [
       "<div>\n",
       "<style scoped>\n",
       "    .dataframe tbody tr th:only-of-type {\n",
       "        vertical-align: middle;\n",
       "    }\n",
       "\n",
       "    .dataframe tbody tr th {\n",
       "        vertical-align: top;\n",
       "    }\n",
       "\n",
       "    .dataframe thead th {\n",
       "        text-align: right;\n",
       "    }\n",
       "</style>\n",
       "<table border=\"1\" class=\"dataframe\">\n",
       "  <thead>\n",
       "    <tr style=\"text-align: right;\">\n",
       "      <th></th>\n",
       "      <th>REGISTRY_ID</th>\n",
       "      <th>PRIMARY_NAME</th>\n",
       "      <th>STATE_NAME</th>\n",
       "      <th>NAICS_CODES</th>\n",
       "      <th>NAICS_CODE_DESCRIPTIONS</th>\n",
       "      <th>SIC_CODES</th>\n",
       "      <th>SIC_CODE_DESCRIPTIONS</th>\n",
       "    </tr>\n",
       "  </thead>\n",
       "  <tbody>\n",
       "    <tr>\n",
       "      <th>3364251</th>\n",
       "      <td>110070264720</td>\n",
       "      <td>WOMENS CORRECTIONAL FACILITY</td>\n",
       "      <td>PENNSYLVANIA</td>\n",
       "      <td>NaN</td>\n",
       "      <td>NaN</td>\n",
       "      <td>NaN</td>\n",
       "      <td>NaN</td>\n",
       "    </tr>\n",
       "    <tr>\n",
       "      <th>3600514</th>\n",
       "      <td>110027680668</td>\n",
       "      <td>GILES COUNTY JAIL</td>\n",
       "      <td>TENNESSEE</td>\n",
       "      <td>NaN</td>\n",
       "      <td>NaN</td>\n",
       "      <td>NaN</td>\n",
       "      <td>NaN</td>\n",
       "    </tr>\n",
       "    <tr>\n",
       "      <th>1993423</th>\n",
       "      <td>110068048856</td>\n",
       "      <td>R R SITE - DETENTION POND - CSW</td>\n",
       "      <td>MINNESOTA</td>\n",
       "      <td>NaN</td>\n",
       "      <td>NaN</td>\n",
       "      <td>NaN</td>\n",
       "      <td>NaN</td>\n",
       "    </tr>\n",
       "    <tr>\n",
       "      <th>3536729</th>\n",
       "      <td>110048086441</td>\n",
       "      <td>CO PRISON FARM</td>\n",
       "      <td>SOUTH CAROLINA</td>\n",
       "      <td>NaN</td>\n",
       "      <td>NaN</td>\n",
       "      <td>NaN</td>\n",
       "      <td>NaN</td>\n",
       "    </tr>\n",
       "    <tr>\n",
       "      <th>4111819</th>\n",
       "      <td>110010883464</td>\n",
       "      <td>DENMAR CORRECTIONAL CTR</td>\n",
       "      <td>WEST VIRGINIA</td>\n",
       "      <td>NaN</td>\n",
       "      <td>NaN</td>\n",
       "      <td>8062</td>\n",
       "      <td>GENERAL MEDICAL AND SURGICAL HOSPITALS</td>\n",
       "    </tr>\n",
       "  </tbody>\n",
       "</table>\n",
       "</div>"
      ],
      "text/plain": [
       "          REGISTRY_ID                     PRIMARY_NAME      STATE_NAME  \\\n",
       "3364251  110070264720     WOMENS CORRECTIONAL FACILITY    PENNSYLVANIA   \n",
       "3600514  110027680668                GILES COUNTY JAIL       TENNESSEE   \n",
       "1993423  110068048856  R R SITE - DETENTION POND - CSW       MINNESOTA   \n",
       "3536729  110048086441                   CO PRISON FARM  SOUTH CAROLINA   \n",
       "4111819  110010883464          DENMAR CORRECTIONAL CTR   WEST VIRGINIA   \n",
       "\n",
       "        NAICS_CODES NAICS_CODE_DESCRIPTIONS SIC_CODES  \\\n",
       "3364251         NaN                     NaN       NaN   \n",
       "3600514         NaN                     NaN       NaN   \n",
       "1993423         NaN                     NaN       NaN   \n",
       "3536729         NaN                     NaN       NaN   \n",
       "4111819         NaN                     NaN      8062   \n",
       "\n",
       "                          SIC_CODE_DESCRIPTIONS  \n",
       "3364251                                     NaN  \n",
       "3600514                                     NaN  \n",
       "1993423                                     NaN  \n",
       "3536729                                     NaN  \n",
       "4111819  GENERAL MEDICAL AND SURGICAL HOSPITALS  "
      ]
     },
     "execution_count": 48,
     "metadata": {},
     "output_type": "execute_result"
    }
   ],
   "source": [
    "fac.shape #just for comparison\n",
    "fac[strings_in_name & ~naics_or_sic_correctional].shape\n",
    "fac[strings_in_name & ~naics_or_sic_correctional].sample(n=5)[industry_code_columns]"
   ]
  },
  {
   "cell_type": "markdown",
   "metadata": {},
   "source": [
    "Here by chance we find a false positive `WEYMOUTH ANIMAL DETENTION CENTER`:\n",
    "\n",
    "(note: users running this notebook on their machine will get different random records from the 'sample' method)"
   ]
  },
  {
   "cell_type": "code",
   "execution_count": 53,
   "metadata": {},
   "outputs": [
    {
     "data": {
      "text/html": [
       "<div>\n",
       "<style scoped>\n",
       "    .dataframe tbody tr th:only-of-type {\n",
       "        vertical-align: middle;\n",
       "    }\n",
       "\n",
       "    .dataframe tbody tr th {\n",
       "        vertical-align: top;\n",
       "    }\n",
       "\n",
       "    .dataframe thead th {\n",
       "        text-align: right;\n",
       "    }\n",
       "</style>\n",
       "<table border=\"1\" class=\"dataframe\">\n",
       "  <thead>\n",
       "    <tr style=\"text-align: right;\">\n",
       "      <th></th>\n",
       "      <th>REGISTRY_ID</th>\n",
       "      <th>PRIMARY_NAME</th>\n",
       "      <th>STATE_NAME</th>\n",
       "      <th>NAICS_CODES</th>\n",
       "      <th>NAICS_CODE_DESCRIPTIONS</th>\n",
       "      <th>SIC_CODES</th>\n",
       "      <th>SIC_CODE_DESCRIPTIONS</th>\n",
       "    </tr>\n",
       "  </thead>\n",
       "  <tbody>\n",
       "    <tr>\n",
       "      <th>1591823</th>\n",
       "      <td>110069224841</td>\n",
       "      <td>ROWAN COUNTY DETENTION CENTER</td>\n",
       "      <td>KENTUCKY</td>\n",
       "      <td>237310</td>\n",
       "      <td>HIGHWAY, STREET, AND BRIDGE CONSTRUCTION.</td>\n",
       "      <td>1611</td>\n",
       "      <td>HIGHWAY AND STREET CONSTRUCTION, EXCEPT ELEVAT...</td>\n",
       "    </tr>\n",
       "    <tr>\n",
       "      <th>1747676</th>\n",
       "      <td>110001997858</td>\n",
       "      <td>WEYMOUTH ANIMAL DETENTION CENTER</td>\n",
       "      <td>MASSACHUSETTS</td>\n",
       "      <td>812910</td>\n",
       "      <td>PET CARE (EXCEPT VETERINARY) SERVICES.</td>\n",
       "      <td>0752, OWNE</td>\n",
       "      <td>ANIMAL SPECIALTY SERVICES, EXCEPT VETERINARY</td>\n",
       "    </tr>\n",
       "    <tr>\n",
       "      <th>1097074</th>\n",
       "      <td>110013128864</td>\n",
       "      <td>SCREVEN CO. PRISON</td>\n",
       "      <td>GEORGIA</td>\n",
       "      <td>NaN</td>\n",
       "      <td>NaN</td>\n",
       "      <td>NaN</td>\n",
       "      <td>NaN</td>\n",
       "    </tr>\n",
       "    <tr>\n",
       "      <th>1412996</th>\n",
       "      <td>110070113760</td>\n",
       "      <td>WALMART #6602 - DETENTION POND REHABILTION</td>\n",
       "      <td>INDIANA</td>\n",
       "      <td>NaN</td>\n",
       "      <td>NaN</td>\n",
       "      <td>NaN</td>\n",
       "      <td>NaN</td>\n",
       "    </tr>\n",
       "    <tr>\n",
       "      <th>183848</th>\n",
       "      <td>110039295125</td>\n",
       "      <td>PIMA COUNTY - CORRECTIONAL FACILITY</td>\n",
       "      <td>ARIZONA</td>\n",
       "      <td>NaN</td>\n",
       "      <td>NaN</td>\n",
       "      <td>NaN</td>\n",
       "      <td>NaN</td>\n",
       "    </tr>\n",
       "  </tbody>\n",
       "</table>\n",
       "</div>"
      ],
      "text/plain": [
       "          REGISTRY_ID                                PRIMARY_NAME  \\\n",
       "1591823  110069224841               ROWAN COUNTY DETENTION CENTER   \n",
       "1747676  110001997858            WEYMOUTH ANIMAL DETENTION CENTER   \n",
       "1097074  110013128864                          SCREVEN CO. PRISON   \n",
       "1412996  110070113760  WALMART #6602 - DETENTION POND REHABILTION   \n",
       "183848   110039295125         PIMA COUNTY - CORRECTIONAL FACILITY   \n",
       "\n",
       "            STATE_NAME NAICS_CODES                    NAICS_CODE_DESCRIPTIONS  \\\n",
       "1591823       KENTUCKY      237310  HIGHWAY, STREET, AND BRIDGE CONSTRUCTION.   \n",
       "1747676  MASSACHUSETTS      812910     PET CARE (EXCEPT VETERINARY) SERVICES.   \n",
       "1097074        GEORGIA         NaN                                        NaN   \n",
       "1412996        INDIANA         NaN                                        NaN   \n",
       "183848         ARIZONA         NaN                                        NaN   \n",
       "\n",
       "          SIC_CODES                              SIC_CODE_DESCRIPTIONS  \n",
       "1591823        1611  HIGHWAY AND STREET CONSTRUCTION, EXCEPT ELEVAT...  \n",
       "1747676  0752, OWNE       ANIMAL SPECIALTY SERVICES, EXCEPT VETERINARY  \n",
       "1097074         NaN                                                NaN  \n",
       "1412996         NaN                                                NaN  \n",
       "183848          NaN                                                NaN  "
      ]
     },
     "execution_count": 53,
     "metadata": {},
     "output_type": "execute_result"
    }
   ],
   "source": [
    "fac[strings_in_name & ~naics_or_sic_correctional].sample(n=5)[industry_code_columns]"
   ]
  },
  {
   "cell_type": "markdown",
   "metadata": {},
   "source": [
    "##### Are there any incarceration facilities <u>incorrectly</u> coded with NAICS/SIC?\n",
    "*Possibly*... using string matching, we find facilities that have names of interest (`LAKE ERIE CORRECTIONAL CENTER`) but perhaps unintuitive SIC_CODE_DESCRIPTION (`GASOLINE SERVICE STATIONS`)."
   ]
  },
  {
   "cell_type": "code",
   "execution_count": 56,
   "metadata": {},
   "outputs": [
    {
     "data": {
      "text/plain": [
       "(770, 39)"
      ]
     },
     "execution_count": 56,
     "metadata": {},
     "output_type": "execute_result"
    },
    {
     "data": {
      "text/html": [
       "<div>\n",
       "<style scoped>\n",
       "    .dataframe tbody tr th:only-of-type {\n",
       "        vertical-align: middle;\n",
       "    }\n",
       "\n",
       "    .dataframe tbody tr th {\n",
       "        vertical-align: top;\n",
       "    }\n",
       "\n",
       "    .dataframe thead th {\n",
       "        text-align: right;\n",
       "    }\n",
       "</style>\n",
       "<table border=\"1\" class=\"dataframe\">\n",
       "  <thead>\n",
       "    <tr style=\"text-align: right;\">\n",
       "      <th></th>\n",
       "      <th>REGISTRY_ID</th>\n",
       "      <th>PRIMARY_NAME</th>\n",
       "      <th>STATE_NAME</th>\n",
       "      <th>NAICS_CODES</th>\n",
       "      <th>NAICS_CODE_DESCRIPTIONS</th>\n",
       "      <th>SIC_CODES</th>\n",
       "      <th>SIC_CODE_DESCRIPTIONS</th>\n",
       "    </tr>\n",
       "  </thead>\n",
       "  <tbody>\n",
       "    <tr>\n",
       "      <th>3613383</th>\n",
       "      <td>110034590226</td>\n",
       "      <td>CITY OF ABILENE TERMINAL DRAINAGE IMPROVEMENTS...</td>\n",
       "      <td>TEXAS</td>\n",
       "      <td>NaN</td>\n",
       "      <td>NaN</td>\n",
       "      <td>1794</td>\n",
       "      <td>EXCAVATION WORK</td>\n",
       "    </tr>\n",
       "    <tr>\n",
       "      <th>3805541</th>\n",
       "      <td>110033694367</td>\n",
       "      <td>LINDSEY CONSTRUCTION GRAND MISSION REGIONAL DE...</td>\n",
       "      <td>TEXAS</td>\n",
       "      <td>NaN</td>\n",
       "      <td>NaN</td>\n",
       "      <td>1629</td>\n",
       "      <td>HEAVY CONSTRUCTION, NOT ELSEWHERE CLASSIFIED</td>\n",
       "    </tr>\n",
       "    <tr>\n",
       "      <th>1667612</th>\n",
       "      <td>110041462155</td>\n",
       "      <td>CADDO CORRECTIONAL INSTITUTE LANDFILL</td>\n",
       "      <td>LOUISIANA</td>\n",
       "      <td>562212</td>\n",
       "      <td>SOLID WASTE LANDFILL.</td>\n",
       "      <td>NaN</td>\n",
       "      <td>NaN</td>\n",
       "    </tr>\n",
       "    <tr>\n",
       "      <th>3167785</th>\n",
       "      <td>110038433898</td>\n",
       "      <td>LAKE ERIE CORRECTIONAL CENTER</td>\n",
       "      <td>OHIO</td>\n",
       "      <td>NaN</td>\n",
       "      <td>NaN</td>\n",
       "      <td>5541</td>\n",
       "      <td>GASOLINE SERVICE STATIONS</td>\n",
       "    </tr>\n",
       "    <tr>\n",
       "      <th>3633978</th>\n",
       "      <td>110043645516</td>\n",
       "      <td>JEFFERSON COUNTY CORRECTIONAL FACILITY</td>\n",
       "      <td>TEXAS</td>\n",
       "      <td>447110</td>\n",
       "      <td>GASOLINE STATIONS WITH CONVENIENCE STORES.</td>\n",
       "      <td>5541</td>\n",
       "      <td>GASOLINE SERVICE STATIONS</td>\n",
       "    </tr>\n",
       "    <tr>\n",
       "      <th>1604588</th>\n",
       "      <td>110069471397</td>\n",
       "      <td>BOURBON COUNTY REGIONAL DETENTION CENTER</td>\n",
       "      <td>KENTUCKY</td>\n",
       "      <td>237310</td>\n",
       "      <td>HIGHWAY, STREET, AND BRIDGE CONSTRUCTION.</td>\n",
       "      <td>1611</td>\n",
       "      <td>HIGHWAY AND STREET CONSTRUCTION, EXCEPT ELEVAT...</td>\n",
       "    </tr>\n",
       "    <tr>\n",
       "      <th>3793889</th>\n",
       "      <td>110034525850</td>\n",
       "      <td>CITY OF PEARLAND WEST MARYS CREEK DETENTION FA...</td>\n",
       "      <td>TEXAS</td>\n",
       "      <td>NaN</td>\n",
       "      <td>NaN</td>\n",
       "      <td>1629</td>\n",
       "      <td>HEAVY CONSTRUCTION, NOT ELSEWHERE CLASSIFIED</td>\n",
       "    </tr>\n",
       "    <tr>\n",
       "      <th>695275</th>\n",
       "      <td>110070248910</td>\n",
       "      <td>BOSLEY WASH DETENTION BASIN</td>\n",
       "      <td>COLORADO</td>\n",
       "      <td>NaN</td>\n",
       "      <td>NaN</td>\n",
       "      <td>1799</td>\n",
       "      <td>SPECIAL TRADE CONTRACTORS, NOT ELSEWHERE CLASS...</td>\n",
       "    </tr>\n",
       "    <tr>\n",
       "      <th>687209</th>\n",
       "      <td>110044876952</td>\n",
       "      <td>CALEY EAST REGIONAL DETENTION POND</td>\n",
       "      <td>COLORADO</td>\n",
       "      <td>NaN</td>\n",
       "      <td>NaN</td>\n",
       "      <td>1799</td>\n",
       "      <td>SPECIAL TRADE CONTRACTORS, NOT ELSEWHERE CLASS...</td>\n",
       "    </tr>\n",
       "    <tr>\n",
       "      <th>515717</th>\n",
       "      <td>110013853142</td>\n",
       "      <td>SAN BERN. CO, EPWA COUNTY JAIL</td>\n",
       "      <td>CALIFORNIA</td>\n",
       "      <td>922190</td>\n",
       "      <td>OTHER JUSTICE, PUBLIC ORDER, AND SAFETY ACTIVI...</td>\n",
       "      <td>NaN</td>\n",
       "      <td>NaN</td>\n",
       "    </tr>\n",
       "  </tbody>\n",
       "</table>\n",
       "</div>"
      ],
      "text/plain": [
       "          REGISTRY_ID                                       PRIMARY_NAME  \\\n",
       "3613383  110034590226  CITY OF ABILENE TERMINAL DRAINAGE IMPROVEMENTS...   \n",
       "3805541  110033694367  LINDSEY CONSTRUCTION GRAND MISSION REGIONAL DE...   \n",
       "1667612  110041462155              CADDO CORRECTIONAL INSTITUTE LANDFILL   \n",
       "3167785  110038433898                      LAKE ERIE CORRECTIONAL CENTER   \n",
       "3633978  110043645516             JEFFERSON COUNTY CORRECTIONAL FACILITY   \n",
       "1604588  110069471397           BOURBON COUNTY REGIONAL DETENTION CENTER   \n",
       "3793889  110034525850  CITY OF PEARLAND WEST MARYS CREEK DETENTION FA...   \n",
       "695275   110070248910                        BOSLEY WASH DETENTION BASIN   \n",
       "687209   110044876952                 CALEY EAST REGIONAL DETENTION POND   \n",
       "515717   110013853142                     SAN BERN. CO, EPWA COUNTY JAIL   \n",
       "\n",
       "         STATE_NAME NAICS_CODES  \\\n",
       "3613383       TEXAS         NaN   \n",
       "3805541       TEXAS         NaN   \n",
       "1667612   LOUISIANA      562212   \n",
       "3167785        OHIO         NaN   \n",
       "3633978       TEXAS      447110   \n",
       "1604588    KENTUCKY      237310   \n",
       "3793889       TEXAS         NaN   \n",
       "695275     COLORADO         NaN   \n",
       "687209     COLORADO         NaN   \n",
       "515717   CALIFORNIA      922190   \n",
       "\n",
       "                                   NAICS_CODE_DESCRIPTIONS SIC_CODES  \\\n",
       "3613383                                                NaN      1794   \n",
       "3805541                                                NaN      1629   \n",
       "1667612                              SOLID WASTE LANDFILL.       NaN   \n",
       "3167785                                                NaN      5541   \n",
       "3633978         GASOLINE STATIONS WITH CONVENIENCE STORES.      5541   \n",
       "1604588          HIGHWAY, STREET, AND BRIDGE CONSTRUCTION.      1611   \n",
       "3793889                                                NaN      1629   \n",
       "695275                                                 NaN      1799   \n",
       "687209                                                 NaN      1799   \n",
       "515717   OTHER JUSTICE, PUBLIC ORDER, AND SAFETY ACTIVI...       NaN   \n",
       "\n",
       "                                     SIC_CODE_DESCRIPTIONS  \n",
       "3613383                                    EXCAVATION WORK  \n",
       "3805541       HEAVY CONSTRUCTION, NOT ELSEWHERE CLASSIFIED  \n",
       "1667612                                                NaN  \n",
       "3167785                          GASOLINE SERVICE STATIONS  \n",
       "3633978                          GASOLINE SERVICE STATIONS  \n",
       "1604588  HIGHWAY AND STREET CONSTRUCTION, EXCEPT ELEVAT...  \n",
       "3793889       HEAVY CONSTRUCTION, NOT ELSEWHERE CLASSIFIED  \n",
       "695275   SPECIAL TRADE CONTRACTORS, NOT ELSEWHERE CLASS...  \n",
       "687209   SPECIAL TRADE CONTRACTORS, NOT ELSEWHERE CLASS...  \n",
       "515717                                                 NaN  "
      ]
     },
     "execution_count": 56,
     "metadata": {},
     "output_type": "execute_result"
    }
   ],
   "source": [
    "#match string must be in name, must have NAICS and/or SIC, and must not be coded as CORRECTIONAL INSTITUTION\n",
    "fac[(strings_in_name & ~missing_naics_and_sic) & ~naics_or_sic_correctional].shape\n",
    "fac[(strings_in_name & ~missing_naics_and_sic) & ~naics_or_sic_correctional].sample(n=10)[industry_code_columns]"
   ]
  },
  {
   "cell_type": "markdown",
   "metadata": {},
   "source": [
    "<a id=\"latlong\"></a>\n",
    "## Using location data: latitude / longitude\n",
    "### Notes\n",
    "In general my notes here are sparse. \n",
    "\n",
    "<a href=\"#top\">Back to Top of Notebook</a>"
   ]
  },
  {
   "cell_type": "code",
   "execution_count": 63,
   "metadata": {},
   "outputs": [],
   "source": [
    "#Column subset to inspect, for convenient reuse\n",
    "location_columns = ['REGISTRY_ID','PRIMARY_NAME','LATITUDE83','LONGITUDE83','CONVEYOR','COLLECT_DESC','ACCURACY_VALUE','REF_POINT_DESC','SOURCE_DESC']"
   ]
  },
  {
   "cell_type": "code",
   "execution_count": 64,
   "metadata": {
    "scrolled": true
   },
   "outputs": [
    {
     "data": {
      "text/html": [
       "<div>\n",
       "<style scoped>\n",
       "    .dataframe tbody tr th:only-of-type {\n",
       "        vertical-align: middle;\n",
       "    }\n",
       "\n",
       "    .dataframe tbody tr th {\n",
       "        vertical-align: top;\n",
       "    }\n",
       "\n",
       "    .dataframe thead th {\n",
       "        text-align: right;\n",
       "    }\n",
       "</style>\n",
       "<table border=\"1\" class=\"dataframe\">\n",
       "  <thead>\n",
       "    <tr style=\"text-align: right;\">\n",
       "      <th></th>\n",
       "      <th>REGISTRY_ID</th>\n",
       "      <th>PRIMARY_NAME</th>\n",
       "      <th>LATITUDE83</th>\n",
       "      <th>LONGITUDE83</th>\n",
       "      <th>CONVEYOR</th>\n",
       "      <th>COLLECT_DESC</th>\n",
       "      <th>ACCURACY_VALUE</th>\n",
       "      <th>REF_POINT_DESC</th>\n",
       "      <th>SOURCE_DESC</th>\n",
       "    </tr>\n",
       "  </thead>\n",
       "  <tbody>\n",
       "    <tr>\n",
       "      <th>172301</th>\n",
       "      <td>110039354604</td>\n",
       "      <td>JOSEPHINE CANYON WWTF</td>\n",
       "      <td>31.564861</td>\n",
       "      <td>-111.003610</td>\n",
       "      <td>AZURITE</td>\n",
       "      <td>UNKNOWN</td>\n",
       "      <td>NaN</td>\n",
       "      <td>NaN</td>\n",
       "      <td>NaN</td>\n",
       "    </tr>\n",
       "    <tr>\n",
       "      <th>3817150</th>\n",
       "      <td>110020479007</td>\n",
       "      <td>HOME DEPOT USA HD6547</td>\n",
       "      <td>29.579632</td>\n",
       "      <td>-98.641708</td>\n",
       "      <td>E-PLAN</td>\n",
       "      <td>NaN</td>\n",
       "      <td>NaN</td>\n",
       "      <td>NaN</td>\n",
       "      <td>NaN</td>\n",
       "    </tr>\n",
       "    <tr>\n",
       "      <th>427498</th>\n",
       "      <td>110070094040</td>\n",
       "      <td>NEFAB PACKAGING WEST LLC</td>\n",
       "      <td>37.517270</td>\n",
       "      <td>-122.046390</td>\n",
       "      <td>ICIS</td>\n",
       "      <td>NaN</td>\n",
       "      <td>NaN</td>\n",
       "      <td>NaN</td>\n",
       "      <td>NaN</td>\n",
       "    </tr>\n",
       "    <tr>\n",
       "      <th>2182540</th>\n",
       "      <td>110003949461</td>\n",
       "      <td>NIXDORF LLOYD CHAIN CO</td>\n",
       "      <td>38.644680</td>\n",
       "      <td>-90.202940</td>\n",
       "      <td>FRS-GEOCODE</td>\n",
       "      <td>ADDRESS MATCHING-HOUSE NUMBER</td>\n",
       "      <td>30.0</td>\n",
       "      <td>ENTRANCE POINT OF A FACILITY OR STATION</td>\n",
       "      <td>NaN</td>\n",
       "    </tr>\n",
       "    <tr>\n",
       "      <th>1901142</th>\n",
       "      <td>110052720819</td>\n",
       "      <td>LAKE RESTAURANT</td>\n",
       "      <td>NaN</td>\n",
       "      <td>NaN</td>\n",
       "      <td>NaN</td>\n",
       "      <td>NaN</td>\n",
       "      <td>NaN</td>\n",
       "      <td>NaN</td>\n",
       "      <td>NaN</td>\n",
       "    </tr>\n",
       "    <tr>\n",
       "      <th>372167</th>\n",
       "      <td>110069993820</td>\n",
       "      <td>RICHIE LAATZ (DBA KJS)</td>\n",
       "      <td>NaN</td>\n",
       "      <td>NaN</td>\n",
       "      <td>NaN</td>\n",
       "      <td>NaN</td>\n",
       "      <td>NaN</td>\n",
       "      <td>NaN</td>\n",
       "      <td>NaN</td>\n",
       "    </tr>\n",
       "    <tr>\n",
       "      <th>113795</th>\n",
       "      <td>110070515601</td>\n",
       "      <td>CITY OF JOINER MAINTENANCE SHOP</td>\n",
       "      <td>35.508480</td>\n",
       "      <td>-90.150790</td>\n",
       "      <td>FRS-GEOCODE</td>\n",
       "      <td>ADDRESS MATCHING-HOUSE NUMBER</td>\n",
       "      <td>30.0</td>\n",
       "      <td>ENTRANCE POINT OF A FACILITY OR STATION</td>\n",
       "      <td>NaN</td>\n",
       "    </tr>\n",
       "    <tr>\n",
       "      <th>61214</th>\n",
       "      <td>110066866993</td>\n",
       "      <td>ARNOLDS AUTO REPAIR</td>\n",
       "      <td>34.673787</td>\n",
       "      <td>-86.043289</td>\n",
       "      <td>FRS-GEOCODE</td>\n",
       "      <td>ADDRESS MATCHING-HOUSE NUMBER</td>\n",
       "      <td>50.0</td>\n",
       "      <td>ENTRANCE POINT OF A FACILITY OR STATION</td>\n",
       "      <td>NaN</td>\n",
       "    </tr>\n",
       "    <tr>\n",
       "      <th>3561283</th>\n",
       "      <td>110007845617</td>\n",
       "      <td>CHEMLAWN CORP</td>\n",
       "      <td>35.065657</td>\n",
       "      <td>-85.197764</td>\n",
       "      <td>COMMERCIAL VENDOR</td>\n",
       "      <td>ADDRESS MATCHING-HOUSE NUMBER</td>\n",
       "      <td>150.0</td>\n",
       "      <td>PLANT ENTRANCE (GENERAL)</td>\n",
       "      <td>NaN</td>\n",
       "    </tr>\n",
       "    <tr>\n",
       "      <th>857315</th>\n",
       "      <td>110070221469</td>\n",
       "      <td>E3Q80: SR30 HIGH TENSION CABLE BARRIER</td>\n",
       "      <td>29.733800</td>\n",
       "      <td>-84.913600</td>\n",
       "      <td>ICIS</td>\n",
       "      <td>NaN</td>\n",
       "      <td>NaN</td>\n",
       "      <td>NaN</td>\n",
       "      <td>NaN</td>\n",
       "    </tr>\n",
       "  </tbody>\n",
       "</table>\n",
       "</div>"
      ],
      "text/plain": [
       "          REGISTRY_ID                            PRIMARY_NAME  LATITUDE83  \\\n",
       "172301   110039354604                   JOSEPHINE CANYON WWTF   31.564861   \n",
       "3817150  110020479007                   HOME DEPOT USA HD6547   29.579632   \n",
       "427498   110070094040                NEFAB PACKAGING WEST LLC   37.517270   \n",
       "2182540  110003949461                  NIXDORF LLOYD CHAIN CO   38.644680   \n",
       "1901142  110052720819                         LAKE RESTAURANT         NaN   \n",
       "372167   110069993820                  RICHIE LAATZ (DBA KJS)         NaN   \n",
       "113795   110070515601         CITY OF JOINER MAINTENANCE SHOP   35.508480   \n",
       "61214    110066866993                     ARNOLDS AUTO REPAIR   34.673787   \n",
       "3561283  110007845617                           CHEMLAWN CORP   35.065657   \n",
       "857315   110070221469  E3Q80: SR30 HIGH TENSION CABLE BARRIER   29.733800   \n",
       "\n",
       "         LONGITUDE83           CONVEYOR                   COLLECT_DESC  \\\n",
       "172301   -111.003610            AZURITE                        UNKNOWN   \n",
       "3817150   -98.641708             E-PLAN                            NaN   \n",
       "427498   -122.046390               ICIS                            NaN   \n",
       "2182540   -90.202940        FRS-GEOCODE  ADDRESS MATCHING-HOUSE NUMBER   \n",
       "1901142          NaN                NaN                            NaN   \n",
       "372167           NaN                NaN                            NaN   \n",
       "113795    -90.150790        FRS-GEOCODE  ADDRESS MATCHING-HOUSE NUMBER   \n",
       "61214     -86.043289        FRS-GEOCODE  ADDRESS MATCHING-HOUSE NUMBER   \n",
       "3561283   -85.197764  COMMERCIAL VENDOR  ADDRESS MATCHING-HOUSE NUMBER   \n",
       "857315    -84.913600               ICIS                            NaN   \n",
       "\n",
       "         ACCURACY_VALUE                           REF_POINT_DESC  SOURCE_DESC  \n",
       "172301              NaN                                      NaN          NaN  \n",
       "3817150             NaN                                      NaN          NaN  \n",
       "427498              NaN                                      NaN          NaN  \n",
       "2182540            30.0  ENTRANCE POINT OF A FACILITY OR STATION          NaN  \n",
       "1901142             NaN                                      NaN          NaN  \n",
       "372167              NaN                                      NaN          NaN  \n",
       "113795             30.0  ENTRANCE POINT OF A FACILITY OR STATION          NaN  \n",
       "61214              50.0  ENTRANCE POINT OF A FACILITY OR STATION          NaN  \n",
       "3561283           150.0                 PLANT ENTRANCE (GENERAL)          NaN  \n",
       "857315              NaN                                      NaN          NaN  "
      ]
     },
     "execution_count": 64,
     "metadata": {},
     "output_type": "execute_result"
    }
   ],
   "source": [
    "#visually inspect\n",
    "fac.sample(n=10)[location_columns]"
   ]
  },
  {
   "cell_type": "code",
   "execution_count": 27,
   "metadata": {},
   "outputs": [
    {
     "data": {
      "text/plain": [
       "1171692"
      ]
     },
     "execution_count": 27,
     "metadata": {},
     "output_type": "execute_result"
    },
    {
     "data": {
      "text/plain": [
       "1171692"
      ]
     },
     "execution_count": 27,
     "metadata": {},
     "output_type": "execute_result"
    },
    {
     "data": {
      "text/plain": [
       "0.2824763195135887"
      ]
     },
     "execution_count": 27,
     "metadata": {},
     "output_type": "execute_result"
    }
   ],
   "source": [
    "missing_latitude = pd.isnull(fac['LATITUDE83'])\n",
    "sum(missing_latitude)\n",
    "\n",
    "missing_longitude = pd.isnull(fac['LONGITUDE83'])\n",
    "sum(missing_longitude)\n",
    "\n",
    "missing_long_lat = (missing_longitude & missing_latitude)\n",
    "sum(missing_long_lat) / fac.shape[0]"
   ]
  },
  {
   "cell_type": "markdown",
   "metadata": {},
   "source": [
    "**Note**: REF_POINT_DESC is the 'what' the location is intended to place (e.g. 'FACILITY CENTROID')."
   ]
  },
  {
   "cell_type": "code",
   "execution_count": 29,
   "metadata": {},
   "outputs": [
    {
     "data": {
      "text/plain": [
       "43"
      ]
     },
     "execution_count": 29,
     "metadata": {},
     "output_type": "execute_result"
    },
    {
     "data": {
      "text/plain": [
       "CENTER OF A FACILITY OR STATION            1375131\n",
       "ENTRANCE POINT OF A FACILITY OR STATION     933868\n",
       "NaN                                         455480\n",
       "PLANT ENTRANCE (GENERAL)                     49896\n",
       "POINT WHERE SUBSTANCE IS RELEASED            42303\n",
       "FACILITY CENTROID                            36753\n",
       "ACRES POINTS NOT REPRESENTED BY 101-107      31298\n",
       "UNKNOWN                                      19564\n",
       "CENTER OF FACILITY                            7941\n",
       "FACILITY/MONITORING SITE BOUNDARY POINT       6309\n",
       "Name: REF_POINT_DESC, dtype: int64"
      ]
     },
     "execution_count": 29,
     "metadata": {},
     "output_type": "execute_result"
    }
   ],
   "source": [
    "fac[~missing_long_lat]['REF_POINT_DESC'].value_counts(dropna=False).size\n",
    "fac[~missing_long_lat]['REF_POINT_DESC'].value_counts(dropna=False).head(n=10)"
   ]
  },
  {
   "cell_type": "code",
   "execution_count": 30,
   "metadata": {},
   "outputs": [
    {
     "data": {
      "text/plain": [
       "13"
      ]
     },
     "execution_count": 30,
     "metadata": {},
     "output_type": "execute_result"
    },
    {
     "data": {
      "text/plain": [
       "ENTRANCE POINT OF A FACILITY OR STATION                                                                                                                                                                   584\n",
       "CENTER OF A FACILITY OR STATION                                                                                                                                                                           359\n",
       "NaN                                                                                                                                                                                                       185\n",
       "POINT WHERE SUBSTANCE IS RELEASED                                                                                                                                                                          54\n",
       "PLANT ENTRANCE (GENERAL)                                                                                                                                                                                   31\n",
       "UNKNOWN                                                                                                                                                                                                    25\n",
       "FACILITY CENTROID                                                                                                                                                                                          17\n",
       "CENTER OF FACILITY                                                                                                                                                                                         14\n",
       "AIR RELEASE STACK                                                                                                                                                                                          14\n",
       "ACRES POINTS NOT REPRESENTED BY 101-107                                                                                                                                                                    12\n",
       "FACILITY/MONITORING SITE BOUNDARY POINT                                                                                                                                                                     7\n",
       "OTHER                                                                                                                                                                                                       2\n",
       "POINT WHERE WATER OR OTHER SUBSTANCE COULD BE DRAWN FROM ENVIRONMENT FOR DELIVERY TO A FACILITY OR DISTRIBUTION SYSTEM (SUBSTANCE DESTINATION COULD RANGE FROM A SINGLE RESIDENCE TO A LARGE FACILITY)      1\n",
       "Name: REF_POINT_DESC, dtype: int64"
      ]
     },
     "execution_count": 30,
     "metadata": {},
     "output_type": "execute_result"
    }
   ],
   "source": [
    "fac[naics_or_sic_correctional & ~missing_long_lat]['REF_POINT_DESC'].value_counts(dropna=False).size\n",
    "fac[naics_or_sic_correctional & ~missing_long_lat]['REF_POINT_DESC'].value_counts(dropna=False)"
   ]
  },
  {
   "cell_type": "code",
   "execution_count": 31,
   "metadata": {},
   "outputs": [
    {
     "data": {
      "text/plain": [
       "18"
      ]
     },
     "execution_count": 31,
     "metadata": {},
     "output_type": "execute_result"
    },
    {
     "data": {
      "text/plain": [
       "ENTRANCE POINT OF A FACILITY OR STATION                                                                                                                                                                   743\n",
       "NaN                                                                                                                                                                                                       629\n",
       "CENTER OF A FACILITY OR STATION                                                                                                                                                                           457\n",
       "FACILITY CENTROID                                                                                                                                                                                         103\n",
       "POINT WHERE SUBSTANCE IS RELEASED                                                                                                                                                                          33\n",
       "ACRES POINTS NOT REPRESENTED BY 101-107                                                                                                                                                                    32\n",
       "PLANT ENTRANCE (GENERAL)                                                                                                                                                                                   31\n",
       "UNKNOWN                                                                                                                                                                                                    14\n",
       "POINT WHERE WATER OR OTHER SUBSTANCE COULD BE DRAWN FROM ENVIRONMENT FOR DELIVERY TO A FACILITY OR DISTRIBUTION SYSTEM (SUBSTANCE DESTINATION COULD RANGE FROM A SINGLE RESIDENCE TO A LARGE FACILITY)      3\n",
       "FACILITY/MONITORING SITE BOUNDARY POINT                                                                                                                                                                     3\n",
       "CENTER OF FACILITY                                                                                                                                                                                          3\n",
       "AIR RELEASE STACK                                                                                                                                                                                           2\n",
       "LIQUID WASTE TREATMENT UNIT                                                                                                                                                                                 2\n",
       "SOURCE WATER AREA                                                                                                                                                                                           1\n",
       "SE CORNER OF LAND PARCEL                                                                                                                                                                                    1\n",
       "INTAKE PIPE                                                                                                                                                                                                 1\n",
       "STORAGE TANK                                                                                                                                                                                                1\n",
       "OTHER                                                                                                                                                                                                       1\n",
       "Name: REF_POINT_DESC, dtype: int64"
      ]
     },
     "execution_count": 31,
     "metadata": {},
     "output_type": "execute_result"
    }
   ],
   "source": [
    "#string matches in facility name and not coded by NAICS/SIC\n",
    "fac[(strings_in_name & ~naics_or_sic_correctional) & ~missing_long_lat]['REF_POINT_DESC'].value_counts(dropna=False).size\n",
    "fac[(strings_in_name & ~naics_or_sic_correctional) & ~missing_long_lat]['REF_POINT_DESC'].value_counts(dropna=False)"
   ]
  },
  {
   "cell_type": "markdown",
   "metadata": {},
   "source": [
    "**Note**: COLLECT_DESC is the 'how' the location was determined."
   ]
  },
  {
   "cell_type": "code",
   "execution_count": 32,
   "metadata": {},
   "outputs": [
    {
     "data": {
      "text/plain": [
       "ADDRESS MATCHING-HOUSE NUMBER                                                              2207891\n",
       "NaN                                                                                         331734\n",
       "UNKNOWN                                                                                     103553\n",
       "INTERPOLATION-MAP                                                                            61874\n",
       "INTERPOLATION-PHOTO                                                                          50966\n",
       "ADDRESS MATCHING-NEAREST INTERSECTION                                                        46678\n",
       "ADDRESS MATCHING-BLOCK FACE                                                                  38767\n",
       "INTERPOLATION-OTHER                                                                          23097\n",
       "GPS CODE (PSEUDO RANGE) DIFFERENTIAL                                                         20304\n",
       "GPS - UNSPECIFIED                                                                            15822\n",
       "ZIP CODE-CENTROID                                                                            13368\n",
       "THE GEOGRAPHIC COORDINATE DETERMINATION METHOD BASED ON ADDRESS MATCHING                      8526\n",
       "GPS CODE (PSEUDO RANGE) STANDARD POSITION (SA OFF)                                            7331\n",
       "ADDRESS MATCHING-OTHER                                                                        6368\n",
       "GPS CODE (PSEUDO RANGE) STANDARD POSITION (SA ON)                                             5682\n",
       "PUBLIC LAND SURVEY-QUARTER SECTION                                                            5459\n",
       "GPS CARRIER PHASE STATIC RELATIVE POSITION                                                    5063\n",
       "ADDRESS MATCHING-STREET CENTERLINE                                                            4618\n",
       "INTERPOLATION - DIGITAL MAP SRCE (TIGER)                                                      3176\n",
       "INTERPOLATION-SATELLITE                                                                       2866\n",
       "GDT-ADDRESS MATCHING (GEOCODING)                                                              2743\n",
       "PUBLIC LAND SURVEY - SIXTEENTH SECTION                                                        2429\n",
       "CLASSICAL SURVEYING TECHNIQUES                                                                1953\n",
       "ADDRESS MATCHING-DIGITIZED                                                                    1134\n",
       "THE GEOGRAPHIC COORDINATE DETERMINATION METHOD BASED ON GPS                                   1079\n",
       "THE GEOGRAPHIC COORDINATE DETERMINATION METHOD BASED ON PUBLIC LAND SURVEY                     770\n",
       "GPS CODE (PSEUDO RANGE) PRECISE POSITION                                                       747\n",
       "INTERPOLATION -TM                                                                              387\n",
       "THE GEOGRAPHIC COORDINATE DETERMINATION METHOD BASED ON INTERPOLATION                          365\n",
       "PUBLIC LAND SURVEY-SECTION                                                                     335\n",
       "US BUREAU OF CENSUS BLOCK ESTABLISHED FOR YEAR NOTED                                           230\n",
       "CENSUS BLOCK/GROUP-1990-CENTROID                                                               162\n",
       "ZIP+4 CENTROID                                                                                 142\n",
       "GPS, WITH CANADIAN ACTIVE CONTROL SYSTEM                                                       133\n",
       "GPS CARRIER PHASE KINEMATIC RELATIVE POSITION                                                  116\n",
       "ADDRESS MATCHING-PRIMARY NAME                                                                   92\n",
       "ZIP+2 CENTROID                                                                                  73\n",
       "CENSUS-OTHER                                                                                    65\n",
       "PUBLIC LAND SURVEY - EIGHTH SECTION                                                             53\n",
       "CENSUS BLOCK/TRACT-1990-CENTROID                                                                39\n",
       "THE GEOGRAPHIC COORDINATE DETERMINATION METHOD BASED ON CLASSICAL SURVEYING\\nTECHNIQUES         14\n",
       "PUBLIC LAND SURVEY - FOOTING                                                                     8\n",
       "THE GEOGRAPHIC COORDINATE DETERMINATION METHOD BASED ON ZIP CODE                                 6\n",
       "INTERPOLATION - SPOT                                                                             6\n",
       "LORAN C                                                                                          5\n",
       "CENSUS BLOCK-1990-CENTROID                                                                       5\n",
       "INTERPOLATION -MSS                                                                               4\n",
       "Name: COLLECT_DESC, dtype: int64"
      ]
     },
     "execution_count": 32,
     "metadata": {},
     "output_type": "execute_result"
    }
   ],
   "source": [
    "fac[~missing_long_lat]['COLLECT_DESC'].value_counts(dropna=False)"
   ]
  },
  {
   "cell_type": "code",
   "execution_count": 33,
   "metadata": {},
   "outputs": [
    {
     "data": {
      "text/plain": [
       "25"
      ]
     },
     "execution_count": 33,
     "metadata": {},
     "output_type": "execute_result"
    },
    {
     "data": {
      "text/plain": [
       "ADDRESS MATCHING-HOUSE NUMBER                                               1104\n",
       "NaN                                                                          515\n",
       "UNKNOWN                                                                      129\n",
       "INTERPOLATION-MAP                                                            105\n",
       "ADDRESS MATCHING-NEAREST INTERSECTION                                         46\n",
       "ADDRESS MATCHING-BLOCK FACE                                                   34\n",
       "GPS - UNSPECIFIED                                                             28\n",
       "INTERPOLATION-PHOTO                                                           27\n",
       "INTERPOLATION-OTHER                                                           15\n",
       "GPS CODE (PSEUDO RANGE) DIFFERENTIAL                                          10\n",
       "GPS CODE (PSEUDO RANGE) STANDARD POSITION (SA OFF)                             8\n",
       "ADDRESS MATCHING-OTHER                                                         7\n",
       "ZIP CODE-CENTROID                                                              6\n",
       "THE GEOGRAPHIC COORDINATE DETERMINATION METHOD BASED ON ADDRESS MATCHING       4\n",
       "GDT-ADDRESS MATCHING (GEOCODING)                                               4\n",
       "ADDRESS MATCHING-STREET CENTERLINE                                             3\n",
       "GPS CARRIER PHASE STATIC RELATIVE POSITION                                     3\n",
       "GPS CODE (PSEUDO RANGE) STANDARD POSITION (SA ON)                              3\n",
       "INTERPOLATION-SATELLITE                                                        2\n",
       "ADDRESS MATCHING-DIGITIZED                                                     2\n",
       "PUBLIC LAND SURVEY-QUARTER SECTION                                             1\n",
       "PUBLIC LAND SURVEY - SIXTEENTH SECTION                                         1\n",
       "US BUREAU OF CENSUS BLOCK ESTABLISHED FOR YEAR NOTED                           1\n",
       "GPS, WITH CANADIAN ACTIVE CONTROL SYSTEM                                       1\n",
       "INTERPOLATION - DIGITAL MAP SRCE (TIGER)                                       1\n",
       "Name: COLLECT_DESC, dtype: int64"
      ]
     },
     "execution_count": 33,
     "metadata": {},
     "output_type": "execute_result"
    }
   ],
   "source": [
    "#string matches in facility name and not coded by NAICS/SIC\n",
    "fac[(strings_in_name & ~naics_or_sic_correctional) & ~missing_long_lat]['COLLECT_DESC'].value_counts(dropna=False).size\n",
    "fac[(strings_in_name & ~naics_or_sic_correctional) & ~missing_long_lat]['COLLECT_DESC'].value_counts(dropna=False)"
   ]
  },
  {
   "cell_type": "code",
   "execution_count": 17,
   "metadata": {},
   "outputs": [
    {
     "data": {
      "text/plain": [
       "25"
      ]
     },
     "execution_count": 17,
     "metadata": {},
     "output_type": "execute_result"
    },
    {
     "data": {
      "text/plain": [
       "NaN                                                                         1300\n",
       "ADDRESS MATCHING-HOUSE NUMBER                                               1104\n",
       "UNKNOWN                                                                      129\n",
       "INTERPOLATION-MAP                                                            105\n",
       "ADDRESS MATCHING-NEAREST INTERSECTION                                         46\n",
       "ADDRESS MATCHING-BLOCK FACE                                                   34\n",
       "GPS - UNSPECIFIED                                                             28\n",
       "INTERPOLATION-PHOTO                                                           27\n",
       "INTERPOLATION-OTHER                                                           15\n",
       "GPS CODE (PSEUDO RANGE) DIFFERENTIAL                                          10\n",
       "GPS CODE (PSEUDO RANGE) STANDARD POSITION (SA OFF)                             8\n",
       "ADDRESS MATCHING-OTHER                                                         7\n",
       "ZIP CODE-CENTROID                                                              6\n",
       "THE GEOGRAPHIC COORDINATE DETERMINATION METHOD BASED ON ADDRESS MATCHING       4\n",
       "GDT-ADDRESS MATCHING (GEOCODING)                                               4\n",
       "GPS CARRIER PHASE STATIC RELATIVE POSITION                                     3\n",
       "GPS CODE (PSEUDO RANGE) STANDARD POSITION (SA ON)                              3\n",
       "ADDRESS MATCHING-STREET CENTERLINE                                             3\n",
       "ADDRESS MATCHING-DIGITIZED                                                     2\n",
       "INTERPOLATION-SATELLITE                                                        2\n",
       "PUBLIC LAND SURVEY-QUARTER SECTION                                             1\n",
       "INTERPOLATION - DIGITAL MAP SRCE (TIGER)                                       1\n",
       "US BUREAU OF CENSUS BLOCK ESTABLISHED FOR YEAR NOTED                           1\n",
       "PUBLIC LAND SURVEY - SIXTEENTH SECTION                                         1\n",
       "GPS, WITH CANADIAN ACTIVE CONTROL SYSTEM                                       1\n",
       "Name: COLLECT_DESC, dtype: int64"
      ]
     },
     "execution_count": 17,
     "metadata": {},
     "output_type": "execute_result"
    }
   ],
   "source": [
    "#string matches in facility name and not coded by NAICS/SIC\n",
    "fac[strings_in_name & ~naics_or_sic_correctional]['COLLECT_DESC'].value_counts(dropna=False).size\n",
    "fac[strings_in_name & ~naics_or_sic_correctional]['COLLECT_DESC'].value_counts(dropna=False)"
   ]
  },
  {
   "cell_type": "markdown",
   "metadata": {},
   "source": [
    "<a id=\"address\"></a>\n",
    "## Location info: Address\n",
    "\n",
    "<a href=\"#top\">Back to Top of Notebook</a>"
   ]
  },
  {
   "cell_type": "code",
   "execution_count": 42,
   "metadata": {},
   "outputs": [
    {
     "data": {
      "text/plain": [
       "0.11280036066182408"
      ]
     },
     "execution_count": 42,
     "metadata": {},
     "output_type": "execute_result"
    }
   ],
   "source": [
    "sum(pd.isnull(fac['LOCATION_ADDRESS'])) / fac.shape[0]"
   ]
  },
  {
   "cell_type": "code",
   "execution_count": 35,
   "metadata": {},
   "outputs": [
    {
     "data": {
      "text/plain": [
       "NaN                                                   467888\n",
       "UNKNOWN                                                79045\n",
       "SEE LOCATION DESCRIPTION                               18881\n",
       "ADDRESS UNKNOWN                                        11971\n",
       "NO ADDRESS ON RECORD                                    9937\n",
       "NONE                                                    8404\n",
       "UNK                                                     6612\n",
       "NOT AVAILABLE                                           3968\n",
       "MAIN ST                                                 1742\n",
       "2608 W MEIGHAN BLVD                                     1481\n",
       "PORTABLE                                                1450\n",
       "RR 1                                                    1388\n",
       "PORTABLE ENGINE- MUST STAY STAND ALONE AT ALL TIME      1273\n",
       "                                                        1188\n",
       "PORTABLE SOURCE                                          989\n",
       "MAIN STREET                                              867\n",
       "NO STREET ADDRESS                                        831\n",
       "VARIOUS LOCATIONS                                        830\n",
       "RR 2                                                     773\n",
       "SITE INFORMATION RESTRICTED                              767\n",
       "PORTABLE ENGINE - MUST STAY STAND ALONE AT ALL TIM       731\n",
       "SC                                                       708\n",
       "UNSPECIFIED                                              704\n",
       "NO ADDRESS                                               598\n",
       "* NOT GIVEN                                              567\n",
       "RTE 1                                                    552\n",
       "RT 1                                                     500\n",
       "ROUTE 1                                                  498\n",
       "--                                                       484\n",
       "NOT APPLICABLE                                           450\n",
       "                                                       ...  \n",
       "PARTNERSHIP BLVD/KEARNEY                                   1\n",
       "ON SW CORNER FM 293 & FM 2373 1OMI W OF PANHANDLE          1\n",
       "835 W 6TH ST                                               1\n",
       "1850 CONCEPTION STREET RD.                                 1\n",
       "946 X AVENUE                                               1\n",
       "21 N LINDEN LN                                             1\n",
       "12215 SW 14TH ST                                           1\n",
       "5616 HAVEN ST                                              1\n",
       "3700 TWO NOTCH RD                                          1\n",
       "SR 10 & SR 39                                              1\n",
       "3200 CHESAPEAKE BEND LANE                                  1\n",
       "1472 HWY 61                                                1\n",
       "167 PEABODY RD                                             1\n",
       "610 CAREY ST                                               1\n",
       "2 AUDITORIUM DR                                            1\n",
       "308 N AIRLINE HWY                                          1\n",
       "2221 EAST STATE HIGHWAY 198                                1\n",
       "PORTABLE ASPHALT/AGGREGATE                                 1\n",
       "89 GENESEE ST                                              1\n",
       "23527 COUNTY ROAD 12                                       1\n",
       "1080 BANKHEAD AVENUE NW                                    1\n",
       "CORNER HIGHWAY 903 & ROUTE 30                              1\n",
       "2356 JEFFERSON HIGHWAY                                     1\n",
       "2189 293RD ST                                              1\n",
       "8900 ROSELAWN ST                                           1\n",
       "HIGHWAY 91, PO BOX 2407                                    1\n",
       "11334 SE 82ND AVE                                          1\n",
       "4931 PARK RD                                               1\n",
       "5563 KEARNY VILLA RD                                       1\n",
       "CUMBERLAND PARKWAY AND PACES WALK                          1\n",
       "Name: LOCATION_ADDRESS, Length: 2997679, dtype: int64"
      ]
     },
     "execution_count": 35,
     "metadata": {},
     "output_type": "execute_result"
    }
   ],
   "source": [
    "fac['LOCATION_ADDRESS'].value_counts(dropna=False)"
   ]
  },
  {
   "cell_type": "code",
   "execution_count": 37,
   "metadata": {},
   "outputs": [
    {
     "data": {
      "text/plain": [
       "1593363       1000 CHESTNUT ST\n",
       "53324         7600 VAUGHN ROAD\n",
       "1014413      3826 CLAIRMONT RD\n",
       "643543     1085 S SANTA FE AVE\n",
       "876446                 UNKNOWN\n",
       "3098204           95 SWAIM AVE\n",
       "2668134      158 WASHINGTON ST\n",
       "2614964       975 GARFIELD AVE\n",
       "3940964                    NaN\n",
       "3009242     16 MERRYS POINT RD\n",
       "Name: LOCATION_ADDRESS, dtype: object"
      ]
     },
     "execution_count": 37,
     "metadata": {},
     "output_type": "execute_result"
    }
   ],
   "source": [
    "fac['LOCATION_ADDRESS'].sample(n=10)"
   ]
  },
  {
   "cell_type": "code",
   "execution_count": 40,
   "metadata": {},
   "outputs": [
    {
     "data": {
      "text/plain": [
       "1447"
      ]
     },
     "execution_count": 40,
     "metadata": {},
     "output_type": "execute_result"
    },
    {
     "data": {
      "text/plain": [
       "NaN                                                   13\n",
       "UNKNOWN                                                9\n",
       "FACILITYWIDE                                           4\n",
       "846 NE 54TH TERRACE                                    3\n",
       "3901 KLEIN BLVD                                        3\n",
       "24414 MUSSELWHITE DRIVE                                2\n",
       "44750 060TH ST W                                       2\n",
       "20 MANNING AVE                                         2\n",
       "100 PRISON RD                                          2\n",
       "1 FEDERAL WAY                                          2\n",
       "15801 SW 137TH AVE                                     2\n",
       "4001 KING                                              2\n",
       "1600 INDUSTRIAL PARK ROAD                              2\n",
       "ROUTE 175                                              2\n",
       "30 HACKENSACK AVE                                      2\n",
       "US 15                                                  2\n",
       "2727 HWY K                                             2\n",
       "1299 SEASIDE AVE                                       2\n",
       "1600 CALIFORNIA DR                                     2\n",
       "17 MALLISON FALLS RD                                   2\n",
       "7650 S NEWCASTLE RD                                    2\n",
       "6999 RETRIEVE RD                                       2\n",
       "4001 HIGHWAY 104                                       2\n",
       "PRISON ROAD                                            2\n",
       "3150 HORTON RD                                         2\n",
       "4436 CALLE REAL                                        2\n",
       "101 FEDERAL DRIVE                                      2\n",
       "4464 RALSTON DR                                        2\n",
       "8030 WHITE BARK TERRACE                                2\n",
       "4236 CALIFORNIA BOULEVARD                              2\n",
       "                                                      ..\n",
       "153 PINEWOOD RD                                        1\n",
       "FM 1227 6 MI S OF                                      1\n",
       "1181 PADDOCK ROAD                                      1\n",
       "1410 NATIVIDAD RD                                      1\n",
       "36000 ROAD 112                                         1\n",
       "3045 S. SACRAMENTO AVENUE                              1\n",
       "18000 INSTITUTION                                      1\n",
       "US HIGHWAY 21                                          1\n",
       "3801 SILO RD                                           1\n",
       "SULLIVAN WAY                                           1\n",
       "1590 MAPLE STREET                                      1\n",
       "25 7TH ST W STE 1                                      1\n",
       "36650 ROAD 112                                         1\n",
       "5185 COUNTY HOME RD                                    1\n",
       "2215 BLUE GUM AVENUE                                   1\n",
       "1541 CONCORD RD                                        1\n",
       "50 FENWICK ST                                          1\n",
       "CYPRESS STREET AND HIGHWAY 90                          1\n",
       "2690 ELMHURST LANE                                     1\n",
       "11 MARSHALL ST                                         1\n",
       "9677 HIGHWAY 21                                        1\n",
       "9505 LAKE EARL DRIVE                                   1\n",
       "201 N CHURCH ST                                        1\n",
       "ROUTE 208 & MCKENDRICK RD                              1\n",
       "8885 S 68TH ST                                         1\n",
       "SOUTH CENTRAL CORRECTIONAL CTR                         1\n",
       "29330 THE OLD RD                                       1\n",
       "428 W LIBERTY ST                                       1\n",
       "FROM INTERSECTION OF SE LOOP 59 & FM 699 IN CARTHA     1\n",
       "SCHOOL ROAD                                            1\n",
       "Name: LOCATION_ADDRESS, Length: 1447, dtype: int64"
      ]
     },
     "execution_count": 40,
     "metadata": {},
     "output_type": "execute_result"
    }
   ],
   "source": [
    "#coded by NAICS/SIC\n",
    "fac[naics_or_sic_correctional]['LOCATION_ADDRESS'].value_counts(dropna=False).size\n",
    "fac[naics_or_sic_correctional]['LOCATION_ADDRESS'].value_counts(dropna=False)"
   ]
  },
  {
   "cell_type": "code",
   "execution_count": 39,
   "metadata": {},
   "outputs": [
    {
     "data": {
      "text/plain": [
       "2255"
      ]
     },
     "execution_count": 39,
     "metadata": {},
     "output_type": "execute_result"
    },
    {
     "data": {
      "text/plain": [
       "NaN                                                   420\n",
       "UNKNOWN                                                56\n",
       "NO ADDRESS ON RECORD                                   16\n",
       "SEE LOCATION DESCRIPTION                               16\n",
       "UNK                                                     4\n",
       "300 PRISON ROAD                                         3\n",
       "NONE                                                    3\n",
       "9850 TWIN CITIES RD                                     3\n",
       "13520 WESTPARK DR                                       3\n",
       "RT 1 & RAHWAY AVE                                       3\n",
       "14560 S STATE ST                                        3\n",
       "1173 FRONT ST                                           3\n",
       "441 BAUCHET ST                                          2\n",
       "19005 WILEYS WELL RD                                    2\n",
       "19 ST AND DALE ST                                       2\n",
       "NW 10TH ST                                              2\n",
       "451 RIVERVIEW PKWY                                      2\n",
       "4913 HELBUSH DR                                         2\n",
       "45100 N 060TH ST W                                      2\n",
       "22010 COLD CREEK ROAD                                   2\n",
       "2584 W SANDY MUSH RD                                    2\n",
       "3200 AIRPORT BLVD                                       2\n",
       "1306 PONTIAC AVE                                        2\n",
       "350 CONLEY LAKE ROAD                                    2\n",
       "NORTH ON STUEBNER AIRLINE, EAST ON KLEPPEL RD ABOU      2\n",
       "3301 E 5TH ST                                           2\n",
       "5555 GIANT HWY                                          2\n",
       "EAST WARM SPRINGS AVE & HIGHWAY 21                      2\n",
       "TO BE DETERMINED                                        2\n",
       "110 FM 2523                                             2\n",
       "                                                     ... \n",
       "4502 S IH 610 LOOP                                      1\n",
       "SW CORNER OF RIMROCK RD AND 62ND ST W                   1\n",
       "RR 6                                                    1\n",
       "205 E CROSIER ST.                                       1\n",
       "901 RICE ST                                             1\n",
       "ELK CREEK RD & EXCEL RD                                 1\n",
       "ON SH 249 .5 MILE SOUTH OF KILLOUGH ST                  1\n",
       "3410 MAGNOLIA DRIVE                                     1\n",
       "325 W CR 550 S                                          1\n",
       "N671 COUNTY ROAD M                                      1\n",
       "APPLE ROAD 1/4 MILE EAST OF CR 190                      1\n",
       "3876 EVANS ROAD                                         1\n",
       "LOT EAST OF BELTWAY 8, BETWEEN KEMPWOOD AND CLAY R      1\n",
       "300 PRISON RD                                           1\n",
       "3400 JOYCE LANE                                         1\n",
       "210 LONG BRIDGE RD                                      1\n",
       "ON BETWEEN PLANO PKWY AND THE KCS RR                    1\n",
       "CDCR (CA) - CORCORAN STATE PRI                          1\n",
       "101 W MARKET ST                                         1\n",
       "708 JULIA STREET                                        1\n",
       "5201 S OLD HWY 63                                       1\n",
       "3516 E CR 75 S                                          1\n",
       "ON PEMBROKE SPRINGS OFF OLD ALDINE WESTFIELD RD NE      1\n",
       "1300 N. WASHINGTON ST.                                  1\n",
       "ON 2 MI S OF WESTPARK TOLL ACCESS RD & LAKEMONT BE      1\n",
       "415 BROAD STREET                T                       1\n",
       "RT. 2, BOX 13-A                                         1\n",
       "1990 STEVENSON BLVD                                     1\n",
       "818 JEFFERSON AVE                                       1\n",
       "ON AIRLINE RD AT WACO CIRCLE                            1\n",
       "Name: LOCATION_ADDRESS, Length: 2255, dtype: int64"
      ]
     },
     "execution_count": 39,
     "metadata": {},
     "output_type": "execute_result"
    }
   ],
   "source": [
    "#string matches in facility name and not coded by NAICS/SIC\n",
    "fac[strings_in_name & ~naics_or_sic_correctional]['LOCATION_ADDRESS'].value_counts(dropna=False).size\n",
    "fac[strings_in_name & ~naics_or_sic_correctional]['LOCATION_ADDRESS'].value_counts(dropna=False)"
   ]
  },
  {
   "cell_type": "markdown",
   "metadata": {},
   "source": [
    "<a id=\"typeprogram\"></a>\n",
    "## Exploring Facility Type and Program Interest\n",
    "\n",
    "<a href=\"#top\">Back to Top of Notebook</a>"
   ]
  },
  {
   "cell_type": "code",
   "execution_count": 44,
   "metadata": {},
   "outputs": [
    {
     "data": {
      "text/plain": [
       "STATIONARY                       3500397\n",
       "WATER SYSTEM                      370356\n",
       "NaN                               145166\n",
       "FACILITY                           77533\n",
       "BROWNFIELDS SITE                   28578\n",
       "MONITORING STATION                 10266\n",
       "POTENTIALLY CONTAMINATED SITE       7974\n",
       "PORTABLE                            5469\n",
       "CONTAMINATED SITE                   1929\n",
       "CONTAMINATION ADDRESSED              162\n",
       "MOBILE                                73\n",
       "WATERFRONT FACILITY                   14\n",
       "PIPELINE                               8\n",
       "BARGE                                  5\n",
       "Name: SITE_TYPE_NAME, dtype: int64"
      ]
     },
     "execution_count": 44,
     "metadata": {},
     "output_type": "execute_result"
    }
   ],
   "source": [
    "#of note, a limited number of facility types\n",
    "fac['SITE_TYPE_NAME'].value_counts(dropna=False)"
   ]
  },
  {
   "cell_type": "code",
   "execution_count": 45,
   "metadata": {},
   "outputs": [
    {
     "data": {
      "text/plain": [
       "39267"
      ]
     },
     "execution_count": 45,
     "metadata": {},
     "output_type": "execute_result"
    },
    {
     "data": {
      "text/plain": [
       "STATE MASTER                                                             1600281\n",
       "UNSPECIFIED UNIVERSE                                                      293337\n",
       "TRANSIENT NON-COMMUNITY WATER SYSTEM                                      258201\n",
       "ICIS-NPDES NON-MAJOR, STORM WATER CONSTRUCTION                            177327\n",
       "ICIS-NPDES NON-MAJOR                                                      156495\n",
       "STATE MASTER, UNSPECIFIED UNIVERSE                                        109103\n",
       "TRANSPORTER                                                                93735\n",
       "CESQG                                                                      93200\n",
       "AIR MINOR                                                                  91995\n",
       "COMMUNITY WATER SYSTEM                                                     79281\n",
       "CESQG, STATE MASTER                                                        76760\n",
       "OSHA ESTABLISHMENT                                                         71047\n",
       "ENFORCEMENT/COMPLIANCE ACTIVITY                                            67667\n",
       "SQG                                                                        50163\n",
       "AIR EMISSIONS CLASSIFICATION UNKNOWN                                       45838\n",
       "NON-TRANSIENT NON-COMMUNITY WATER SYSTEM                                   42525\n",
       "AIR MINOR, STATE MASTER                                                    40295\n",
       "ICIS-NPDES NON-MAJOR, STORM WATER INDUSTRIAL                               33934\n",
       "COMPLIANCE ACTIVITY                                                        33596\n",
       "SQG, STATE MASTER                                                          31689\n",
       "BROWNFIELDS PROPERTY                                                       28715\n",
       "ICIS-NPDES NON-MAJOR, STATE MASTER, STORM WATER CONSTRUCTION               28483\n",
       "FORMAL ENFORCEMENT ACTION                                                  28065\n",
       "ICIS-NPDES NON-MAJOR, STATE MASTER                                         26107\n",
       "ICIS-NPDES UNPERMITTED                                                     24441\n",
       "STATE MASTER, TRANSPORTER                                                  22036\n",
       "AIR MONITORING SITE                                                        13896\n",
       "AIR EMISSIONS CLASSIFICATION UNKNOWN, AIR MINOR                            13055\n",
       "ENFORCEMENT/COMPLIANCE ACTIVITY, FORMAL ENFORCEMENT ACTION                 12929\n",
       "HAZARDOUS WASTE BIENNIAL REPORTER, LQG                                     12666\n",
       "AIR SYNTHETIC MINOR                                                        11950\n",
       "HAZARDOUS WASTE BIENNIAL REPORTER, UNSPECIFIED UNIVERSE                     9583\n",
       "OTHER HAZARDOUS WASTE ACTIVITIES                                            9524\n",
       "ICIS-NPDES NON-MAJOR, STATE MASTER, STORM WATER INDUSTRIAL                  8891\n",
       "TRI REPORTER                                                                8754\n",
       "AIR EMISSIONS CLASSIFICATION UNKNOWN, AIR MINOR, STATE MASTER               8281\n",
       "PESTICIDE PRODUCER                                                          7959\n",
       "HAZARDOUS WASTE BIENNIAL REPORTER, STATE MASTER, UNSPECIFIED UNIVERSE       7648\n",
       "AIR EMISSIONS CLASSIFICATION UNKNOWN, STATE MASTER                          6986\n",
       "LQG                                                                         6353\n",
       "AIR MINOR, CESQG, STATE MASTER                                              6230\n",
       "SUPERFUND (NON-NPL)                                                         6136\n",
       "ENFORCEMENT/COMPLIANCE ACTIVITY, STATE MASTER                               5645\n",
       "ICIS-NPDES NON-MAJOR, POTW                                                  5625\n",
       "NaN                                                                         5289\n",
       "AIR MINOR, STATE MASTER, UNSPECIFIED UNIVERSE                               5256\n",
       "STATE MASTER, WATER TREATMENT PLANT                                         5072\n",
       "LEAKING UNDERGROUND STORAGE TANK - ARRA                                     4971\n",
       "HAZARDOUS AIR POLLUTANT MAJOR                                               4868\n",
       "HAZARDOUS WASTE BIENNIAL REPORTER, LQG, STATE MASTER                        4657\n",
       "Name: INTEREST_TYPES, dtype: int64"
      ]
     },
     "execution_count": 45,
     "metadata": {},
     "output_type": "execute_result"
    }
   ],
   "source": [
    "fac['INTEREST_TYPES'].value_counts(dropna=False).size\n",
    "fac['INTEREST_TYPES'].value_counts(dropna=False).head(n=50) #limit for web viewing"
   ]
  },
  {
   "cell_type": "code",
   "execution_count": 46,
   "metadata": {},
   "outputs": [
    {
     "data": {
      "text/plain": [
       "458"
      ]
     },
     "execution_count": 46,
     "metadata": {},
     "output_type": "execute_result"
    },
    {
     "data": {
      "text/plain": [
       "STATE MASTER                                                                                                       395\n",
       "ICIS-NPDES NON-MAJOR                                                                                                78\n",
       "AIR MINOR                                                                                                           75\n",
       "AIR EMISSIONS CLASSIFICATION UNKNOWN                                                                                71\n",
       "AIR MINOR, STATE MASTER                                                                                             57\n",
       "CESQG, STATE MASTER                                                                                                 31\n",
       "AIR SYNTHETIC MINOR, STATE MASTER                                                                                   22\n",
       "STATE MASTER, UNSPECIFIED UNIVERSE                                                                                  21\n",
       "AIR SYNTHETIC MINOR                                                                                                 21\n",
       "ICIS-NPDES NON-MAJOR, STATE MASTER                                                                                  20\n",
       "AIR EMISSIONS CLASSIFICATION UNKNOWN, AIR MINOR, STATE MASTER                                                       19\n",
       "TRI REPORTER                                                                                                        19\n",
       "ENFORCEMENT/COMPLIANCE ACTIVITY, FORMAL ENFORCEMENT ACTION                                                          19\n",
       "ENFORCEMENT/COMPLIANCE ACTIVITY                                                                                     18\n",
       "FORMAL ENFORCEMENT ACTION                                                                                           13\n",
       "HAZARDOUS AIR POLLUTANT MAJOR                                                                                       11\n",
       "SQG, STATE MASTER                                                                                                   11\n",
       "AIR MINOR, AIR SYNTHETIC MINOR                                                                                      10\n",
       "ENFORCEMENT/COMPLIANCE ACTIVITY, STATE MASTER                                                                        8\n",
       "TRANSPORTER                                                                                                          8\n",
       "AIR MINOR, CESQG, STATE MASTER                                                                                       8\n",
       "UNSPECIFIED UNIVERSE                                                                                                 8\n",
       "AIR EMISSIONS CLASSIFICATION UNKNOWN, STATE MASTER                                                                   7\n",
       "COMPLIANCE AND EMISSIONS REPORTING, STATE MASTER                                                                     6\n",
       "ICIS-NPDES NON-MAJOR, POTW                                                                                           6\n",
       "AIR MINOR, ENFORCEMENT/COMPLIANCE ACTIVITY, FORMAL ENFORCEMENT ACTION, STATE MASTER                                  5\n",
       "AIR MINOR, AIR SYNTHETIC MINOR, STATE MASTER                                                                         5\n",
       "AIR EMISSIONS CLASSIFICATION UNKNOWN, AIR SYNTHETIC MINOR                                                            5\n",
       "COMMUNITY WATER SYSTEM, STATE MASTER                                                                                 5\n",
       "COMPLIANCE ACTIVITY                                                                                                  5\n",
       "AIR MINOR, SQG, STATE MASTER                                                                                         5\n",
       "ICIS-NPDES NON-MAJOR, POTW, STATE MASTER                                                                             5\n",
       "AIR SYNTHETIC MINOR, STATE MASTER, UNSPECIFIED UNIVERSE                                                              4\n",
       "CESQG, COMMUNITY WATER SYSTEM, STATE MASTER                                                                          4\n",
       "STATE MASTER, TRANSPORTER                                                                                            4\n",
       "AIR - NOT APPLICABLE, AIR MINOR                                                                                      4\n",
       "ENFORCEMENT/COMPLIANCE ACTIVITY, FORMAL ENFORCEMENT ACTION, STATE MASTER                                             4\n",
       "ICIS-NPDES UNPERMITTED                                                                                               4\n",
       "AIR MINOR, ENFORCEMENT/COMPLIANCE ACTIVITY                                                                           4\n",
       "AIR EMISSIONS CLASSIFICATION UNKNOWN, AIR MINOR, SQG, STATE MASTER                                                   4\n",
       "AIR MINOR, ICIS-NPDES NON-MAJOR, STATE MASTER                                                                        4\n",
       "COMPLIANCE ACTIVITY, FORMAL ENFORCEMENT ACTION                                                                       3\n",
       "COMMUNITY WATER SYSTEM, ICIS-NPDES NON-MAJOR                                                                         3\n",
       "CESQG                                                                                                                3\n",
       "CESQG, FORMAL ENFORCEMENT ACTION                                                                                     3\n",
       "COMMUNITY WATER SYSTEM, ICIS-NPDES NON-MAJOR, STATE MASTER                                                           3\n",
       "AIR MINOR, ENFORCEMENT/COMPLIANCE ACTIVITY, FORMAL ENFORCEMENT ACTION, ICIS-NPDES NON-MAJOR, POTW, STATE MASTER      3\n",
       "AIR SYNTHETIC MINOR, CESQG, COMPLIANCE AND EMISSIONS REPORTING, STATE MASTER                                         3\n",
       "AIR MINOR, STATE MASTER, UNSPECIFIED UNIVERSE                                                                        3\n",
       "AIR MINOR, COMPLIANCE AND EMISSIONS REPORTING, STATE MASTER                                                          3\n",
       "Name: INTEREST_TYPES, dtype: int64"
      ]
     },
     "execution_count": 46,
     "metadata": {},
     "output_type": "execute_result"
    }
   ],
   "source": [
    "fac[naics_or_sic_correctional]['INTEREST_TYPES'].value_counts(dropna=False).size\n",
    "fac[naics_or_sic_correctional]['INTEREST_TYPES'].value_counts(dropna=False).head(n=50) #limit for web viewing"
   ]
  },
  {
   "cell_type": "code",
   "execution_count": 47,
   "metadata": {},
   "outputs": [
    {
     "data": {
      "text/plain": [
       "174"
      ]
     },
     "execution_count": 47,
     "metadata": {},
     "output_type": "execute_result"
    },
    {
     "data": {
      "text/plain": [
       "STATE MASTER                                                           1277\n",
       "ICIS-NPDES NON-MAJOR, STORM WATER CONSTRUCTION                          285\n",
       "COMMUNITY WATER SYSTEM                                                  210\n",
       "ICIS-NPDES NON-MAJOR                                                    206\n",
       "UNSPECIFIED UNIVERSE                                                     84\n",
       "CESQG                                                                    51\n",
       "BROWNFIELDS PROPERTY                                                     46\n",
       "TRANSPORTER                                                              42\n",
       "NON-TRANSIENT NON-COMMUNITY WATER SYSTEM                                 41\n",
       "ICIS-NPDES NON-MAJOR, STATE MASTER, STORM WATER CONSTRUCTION             40\n",
       "ENFORCEMENT/COMPLIANCE ACTIVITY                                          35\n",
       "CESQG, STATE MASTER                                                      33\n",
       "TRANSIENT NON-COMMUNITY WATER SYSTEM                                     29\n",
       "AIR MINOR                                                                27\n",
       "COMPLIANCE AND EMISSIONS REPORTING                                       27\n",
       "COMPLIANCE ACTIVITY                                                      27\n",
       "AIR EMISSIONS CLASSIFICATION UNKNOWN                                     24\n",
       "ICIS-NPDES UNPERMITTED                                                   18\n",
       "SQG                                                                      18\n",
       "FORMAL ENFORCEMENT ACTION                                                17\n",
       "STATE MASTER, UNSPECIFIED UNIVERSE                                       12\n",
       "AIR MONITORING SITE                                                      12\n",
       "COMMUNITY WATER SYSTEM, STATE MASTER                                     10\n",
       "ENFORCEMENT/COMPLIANCE ACTIVITY, STATE MASTER                             9\n",
       "ICIS-NPDES NON-MAJOR, STATE MASTER                                        8\n",
       "SQG, STATE MASTER                                                         8\n",
       "BIOSOLIDS, ICIS-NPDES NON-MAJOR                                           7\n",
       "SUPERFUND (NON-NPL)                                                       7\n",
       "ELECTRIC GENERATOR                                                        7\n",
       "AIR MINOR, STATE MASTER                                                   7\n",
       "ENFORCEMENT/COMPLIANCE ACTIVITY, FORMAL ENFORCEMENT ACTION                6\n",
       "ICIS-NPDES NON-MAJOR, POTW                                                6\n",
       "PESTICIDE PRODUCER                                                        6\n",
       "AIR EMISSIONS CLASSIFICATION UNKNOWN, STATE MASTER                        5\n",
       "OSHA ESTABLISHMENT                                                        5\n",
       "HAZARDOUS AIR POLLUTANT MAJOR                                             5\n",
       "AIR SYNTHETIC MINOR                                                       4\n",
       "CESQG, ENFORCEMENT/COMPLIANCE ACTIVITY                                    4\n",
       "ICIS-NPDES MINOR                                                          4\n",
       "BROWNFIELDS PROPERTY, STATE MASTER                                        4\n",
       "CESQG, COMPLIANCE ACTIVITY                                                3\n",
       "LQG                                                                       3\n",
       "FORMAL ENFORCEMENT ACTION, STATE MASTER                                   3\n",
       "STATE MASTER, WATER TREATMENT PLANT                                       3\n",
       "COMMUNITY WATER SYSTEM, ICIS-NPDES NON-MAJOR                              3\n",
       "CESQG, ICIS-NPDES NON-MAJOR, STATE MASTER, STORM WATER CONSTRUCTION       3\n",
       "HAZARDOUS WASTE BIENNIAL REPORTER, LQG                                    3\n",
       "ICIS-NPDES MINOR, STORM WATER CONSTRUCTION                                3\n",
       "OTHER HAZARDOUS WASTE ACTIVITIES                                          3\n",
       "CESQG, COMMUNITY WATER SYSTEM, STATE MASTER                               3\n",
       "Name: INTEREST_TYPES, dtype: int64"
      ]
     },
     "execution_count": 47,
     "metadata": {},
     "output_type": "execute_result"
    }
   ],
   "source": [
    "fac[strings_in_name & ~naics_or_sic_correctional]['INTEREST_TYPES'].value_counts(dropna=False).size\n",
    "fac[strings_in_name & ~naics_or_sic_correctional]['INTEREST_TYPES'].value_counts(dropna=False).head(n=50) #limit for web viewing"
   ]
  },
  {
   "cell_type": "code",
   "execution_count": 48,
   "metadata": {},
   "outputs": [
    {
     "data": {
      "text/plain": [
       "131"
      ]
     },
     "execution_count": 48,
     "metadata": {},
     "output_type": "execute_result"
    },
    {
     "data": {
      "text/plain": [
       "NaN                                                                                           2634\n",
       "                                                                                                65\n",
       "NEW RST; RST CONVERSION PROJECT 05/15/2005                                                       7\n",
       "UNDERGROUND STORAGE TANK                                                                         5\n",
       "ELOY                                                                                             5\n",
       "FIRST POINT CLICKED IN WUSE MAP APPLET                                                           2\n",
       "NM-TEMPO                                                                                         2\n",
       "ALABAMA DEPARTMENT OF CORRECTIONS                                                                2\n",
       "FROM 363 TO MELALEVCA DR                                                                         1\n",
       "PHOENIX                                                                                          1\n",
       "CORRECTIONAL INSTITUTION.                                                                        1\n",
       "INC.                                                                                             1\n",
       "UNKNOWN                                                                                          1\n",
       "ADDRESS: 37900 N. 45TH AVE. PHOENIX, AZ 85027                                                    1\n",
       "VINCINITY OF NOVELTY RD& 208TH ST                                                                1\n",
       "(PART A)                                                                                         1\n",
       "ON THE NORTH SIDE OF BEECHNUT APPROXIMATELY 0.73 MILES WEST OF ITS INTERSECTION                  1\n",
       "SOUTHEAST CORNER OF MAURY STREET AND COLLINGSWORTH STREET                                        1\n",
       "PO BOX 607 CARSON CITY                                                                           1\n",
       "NEAR SOUTHEAST CORNER OF INTERSECTION OF INTERSTATE 20 AND BEAUGARD ST. DIRECTLY                 1\n",
       "LOCATED IN THE SOUTHWEST CORNER OF EMGLISH DR. & CENTENNIAL RD. APN#309-01-142                   1\n",
       "3045 COUNTY COMPLEX DRIVE                                                                        1\n",
       "ACCESS SITE VIA GOLF COURSE 2401 S 192                                                           1\n",
       "COURT HOUSE SQ                                                                                   1\n",
       "NEW NPDES  3/6/13                                                                                1\n",
       "DRY CR-LITTLE SATILLA CR                                                                         1\n",
       "T4N R61E S17                                                                                     1\n",
       "19025 WILEYS WELL ROAD CHUCKAWALLAVALLEYSTATEPRISON                                              1\n",
       "NW1/4, S12, T7N, R10W                                                                            1\n",
       "INSTITUTION RD                                                                                   1\n",
       "NE QUADRANT OF THE INTERSECTION OF EZELL RD AND CLOVERDALE RD                                    1\n",
       "LOUIS JETSON CORRECTIONAL CTR FOR YOUTH                                                          1\n",
       "PARK AVE., ARROYO CHICO - VINE AVE.                                                              1\n",
       "ON E OF HUFSMITH-KOHRVILLE RD 1800 FT S OF BOUDREAUX RD                                          1\n",
       "NORTH OF CR-56, WEST OF SH-288 AND SOUTH OF TEXAS WATER CANAL                                    1\n",
       "IJC                                                                                              1\n",
       "NOT LISTED                                                                                       1\n",
       "ON SH 249 .5 MILE SOUTH OF KILLOUGH ST                                                           1\n",
       "SAND CREEK DETENTION BASIN NO2                                                                   1\n",
       "NENWSWS28T12NR8EIM                                                                               1\n",
       "DALLAS CITY LIMITS                                                                               1\n",
       "LOCATED APPROX. 0.29 MILES SW OF THE INTERSECTIONS OF I-45 AND LAGO MAR BLVD ACC                 1\n",
       "ON END OF N VISTA DR FROM 145N GO RIGHT                                                          1\n",
       "NEW HW, AFIN ASSIGNMENT PROJECT 09/08/2003, EPAID=ARR000011999   RST FACILITY ID #46001650       1\n",
       "HARRIS COUNTY NORTH OF GALVESTON ROAD AND SOUTH HARRIS COUNTY FLOOD CONTROL DIST                 1\n",
       "NEW NPDES  06/12/01                                                                              1\n",
       "ON THE INTX OF FM 1464 & KEEGANS RIDGEWAY                                                        1\n",
       "S WATER                                                                                          1\n",
       "MOVED ACROSS THE STREET TO ORIGIONAL JAIL SITE                                                   1\n",
       "ON PASADENA BLVD & ALABAMA AVE                                                                   1\n",
       "Name: LOCATION_DESCRIPTION, dtype: int64"
      ]
     },
     "execution_count": 48,
     "metadata": {},
     "output_type": "execute_result"
    }
   ],
   "source": [
    "fac[strings_in_name & ~naics_or_sic_correctional]['LOCATION_DESCRIPTION'].value_counts(dropna=False).size\n",
    "fac[strings_in_name & ~naics_or_sic_correctional]['LOCATION_DESCRIPTION'].value_counts(dropna=False).head(n=50) #limit for web viewing      "
   ]
  }
 ],
 "metadata": {
  "kernelspec": {
   "display_name": "Python 3",
   "language": "python",
   "name": "python3"
  },
  "language_info": {
   "codemirror_mode": {
    "name": "ipython",
    "version": 3
   },
   "file_extension": ".py",
   "mimetype": "text/x-python",
   "name": "python",
   "nbconvert_exporter": "python",
   "pygments_lexer": "ipython3",
   "version": "3.7.1"
  }
 },
 "nbformat": 4,
 "nbformat_minor": 2
}
