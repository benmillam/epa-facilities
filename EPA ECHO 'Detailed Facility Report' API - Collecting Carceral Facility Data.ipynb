{
 "cells": [
  {
   "cell_type": "markdown",
   "metadata": {},
   "source": [
    "<a id=\"top\"></a>\n",
    "# Goal: Download the EPA ECHO Program's 'Facility Detail' Data for ~1,500 Carceral Facilities.\n",
    "\n",
    "### Background\n",
    "Thus far offline we\\'ve been examining EPA ECHO (Enforcement and Compliance History Online) data for carceral facilities by looking at a summary CSV download where the unit of analysis is the EPA facility, with one row per facility with summary data taken from ECHO.\n",
    "\n",
    "To get more detail on individual facilities, this utility notebook will download the ECHO Program's 'Facility Detail' Data and save the results as JSON text files. The ['Facility Detail' API](https://echo.epa.gov/tools/web-services/detailed-facility-report) is one of several offered by [ECHO's web services](https://echo.epa.gov/tools/web-services/).\n",
    "\n",
    "A future notebook will begin analysis of the ECHO data by importing these JSON text files. I may also end up writing a version of this notebook in R, as there are more R users in the group.\n",
    "\n",
    "We're still working on identifying all the carceral EPA facilities, but we'll be downloading data for the ~1,500 coded as carceral by NAICS/SIC code, to begin work in parallel.\n",
    "\n",
    "### Outstanding Issues\n",
    "It appears ECHO's API is returning malformed JSON for certain records, for about a dozen facilities out of ~1,500; this causes an error in our code. Because we're collecting data for exploration, I've left this unresolved for now."
   ]
  },
  {
   "cell_type": "markdown",
   "metadata": {},
   "source": [
    "### Begin Notebook"
   ]
  },
  {
   "cell_type": "code",
   "execution_count": 1,
   "metadata": {},
   "outputs": [],
   "source": [
    "import requests\n",
    "#let's be good API citizens\n",
    "import requests_cache #conda install -c conda-forge requests-cache\n",
    "requests_cache.install_cache(\"ECHOcache\") #cache, need verify if install reads/create\n",
    "import time #for sleep\n",
    "\n",
    "import pandas as pd\n",
    "import numpy as np\n",
    "\n",
    "from datetime import datetime, timezone\n",
    "import os\n",
    "from pathlib import Path\n",
    "\n",
    "#widen our display just in case\n",
    "pd.set_option('display.max_columns', None)\n",
    "\n",
    "#display all output not just last\n",
    "#https://stackoverflow.com/questions/36786722/how-to-display-full-output-in-jupyter-not-only-last-result\n",
    "from IPython.core.interactiveshell import InteractiveShell\n",
    "InteractiveShell.ast_node_interactivity = \"all\""
   ]
  },
  {
   "cell_type": "markdown",
   "metadata": {},
   "source": [
    "Read in 4 million EPA Facilities, some background in [this notebook](https://github.com/benmillam/epa-facilities/blob/master/EPA%20Facilities%20Registry%20Data%20to%20ID%20Incarceration%20Facilities.ipynb)."
   ]
  },
  {
   "cell_type": "code",
   "execution_count": 2,
   "metadata": {},
   "outputs": [
    {
     "name": "stderr",
     "output_type": "stream",
     "text": [
      "C:\\Users\\Ben\\Anaconda3\\lib\\site-packages\\IPython\\core\\interactiveshell.py:3020: DtypeWarning: Columns (4,5,13,14,15,16,21,24,27,29,30) have mixed types. Specify dtype option on import or set low_memory=False.\n",
      "  interactivity=interactivity, compiler=compiler, result=result)\n"
     ]
    }
   ],
   "source": [
    "fac = pd.read_csv('NATIONAL_SINGLE.CSV')"
   ]
  },
  {
   "cell_type": "markdown",
   "metadata": {},
   "source": [
    "We'll get the Facility ID for 1,527 EPA facilities coded as CORRECTIONAL INSTITUTIONS with NAICS code (922140) or SIC code (9223). Some facilities may have multiple codes. "
   ]
  },
  {
   "cell_type": "code",
   "execution_count": 7,
   "metadata": {},
   "outputs": [
    {
     "data": {
      "text/plain": [
       "982"
      ]
     },
     "execution_count": 7,
     "metadata": {},
     "output_type": "execute_result"
    },
    {
     "data": {
      "text/plain": [
       "1274"
      ]
     },
     "execution_count": 7,
     "metadata": {},
     "output_type": "execute_result"
    },
    {
     "data": {
      "text/plain": [
       "1527"
      ]
     },
     "execution_count": 7,
     "metadata": {},
     "output_type": "execute_result"
    },
    {
     "data": {
      "text/plain": [
       "0"
      ]
     },
     "execution_count": 7,
     "metadata": {},
     "output_type": "execute_result"
    }
   ],
   "source": [
    "#https://pandas.pydata.org/pandas-docs/stable/reference/api/pandas.Series.str.contains.html\n",
    "#string matching not exact, will return for any substring instance\n",
    "naics_correctional = fac['NAICS_CODES'].str.contains('922140', na=False, regex=False) #a logical Series\n",
    "sum(naics_correctional)\n",
    "\n",
    "sic_correctional = fac['SIC_CODES'].str.contains('9223', na=False, regex=False) #a logical Series\n",
    "sum(sic_correctional)\n",
    "\n",
    "naics_or_sic_correctional = naics_correctional | sic_correctional\n",
    "sum(naics_or_sic_correctional)\n",
    "\n",
    "prison_fac_ids = fac[naics_or_sic_correctional]['REGISTRY_ID']\n",
    "sum(pd.isna(prison_fac_ids))"
   ]
  },
  {
   "cell_type": "markdown",
   "metadata": {},
   "source": [
    "Now our functions to query the API and save the results:"
   ]
  },
  {
   "cell_type": "code",
   "execution_count": 8,
   "metadata": {},
   "outputs": [],
   "source": [
    "#helper to write JSON string to a file for storage\n",
    "def save_json_as_text_file(json_string, facid, verbose = False):\n",
    "    \"\"\"\n",
    "    Saves a JSON string as a UTF-8 encoded text file.\n",
    "        \n",
    "        Args:\n",
    "            json_string (str): A single string.\n",
    "            facid (str): The EPA facility ID.\n",
    "            verbose (bool): Whether to print status messages.\n",
    "            \n",
    "        Returns:\n",
    "            None\n",
    "    \"\"\"\n",
    "    #build filename\n",
    "    facid = str(facid) #convert to string just in case\n",
    "    time_accessed = datetime.now(timezone.utc).strftime(\"%Y-%m-%d-%Z\") #'2019-11-07-UTC' string for filename\n",
    "    filename = facid + '-' + time_accessed + '-facility-detail-JSON.txt'\n",
    "    \n",
    "    #write file\n",
    "    with open(filename, 'w', encoding='utf-8') as f:\n",
    "        f.write(json_string)\n",
    "        if verbose:\n",
    "            print('File saved for facility ID ', facid)\n",
    "    return None\n",
    "    "
   ]
  },
  {
   "cell_type": "markdown",
   "metadata": {},
   "source": [
    "Note: API is public, no guidance on rate limits aside from \"Note: To download a large volume of data, please use the [ECHO Data Downloads](https://echo.epa.gov/tools/data-downloads).\"  Still, we'll be good citizens, use a cache, and sleep between requests."
   ]
  },
  {
   "cell_type": "code",
   "execution_count": 20,
   "metadata": {},
   "outputs": [],
   "source": [
    "#helper to return a single EPA facility query\n",
    "def get_single_facility_detail(facid, verbose = False):\n",
    "    \"\"\"\n",
    "    Gets ECHO facility detail results for a single facility from https://echo.epa.gov/tools/web-services/detailed-facility-report.\n",
    "    Saves the resulting JSON in a text file and returns a dictionary from requests.json().\n",
    "    \n",
    "        Args:\n",
    "            facid (str): The EPA facility registry ID.\n",
    "            verbose (bool): Whether to print status messages.\n",
    "            \n",
    "        Returns:\n",
    "            a dictionary (dict) from requests.json()\n",
    "    \"\"\"\n",
    "    \n",
    "    api_url = 'https://ofmpub.epa.gov/echo/dfr_rest_services.get_dfr'\n",
    "    \n",
    "    response = requests.get(api_url, params = {\n",
    "        \"p_id\": facid,\n",
    "        \"output\": 'JSON',\n",
    "    })\n",
    "    \n",
    "    #if not cached, then sleep to be polite\n",
    "    if not response.from_cache:\n",
    "        time.sleep(1.5) #no public rate limit info, estimate\n",
    "    \n",
    "    #if bad requests response, notify user; note we aren't checking integrity of API results!\n",
    "    try:\n",
    "        response.raise_for_status()\n",
    "        result = response.json() #returns dictionary, #API results in JSON\n",
    "    except:\n",
    "        print(\"Requests error in your get_single_facility_detail function.\")\n",
    "        raise #note we'll catch the error in the parent loop, but we'd like to know about in real time\n",
    "    \n",
    "    #save text file\n",
    "    try:\n",
    "        save_json_as_text_file(response.text, facid, verbose)\n",
    "    except:\n",
    "        print(\"File save error in your get_single_facility_detail function.\")\n",
    "        raise #note we'll catch the error in the parent loop   \n",
    "    \n",
    "    return result"
   ]
  },
  {
   "cell_type": "code",
   "execution_count": 11,
   "metadata": {},
   "outputs": [
    {
     "data": {
      "text/plain": [
       "0"
      ]
     },
     "execution_count": 11,
     "metadata": {},
     "output_type": "execute_result"
    }
   ],
   "source": [
    "#check for duplicate facilities, just an FYI/sanity check\n",
    "sum(prison_fac_ids.duplicated())"
   ]
  },
  {
   "cell_type": "markdown",
   "metadata": {},
   "source": [
    "#### Now we gather and save results for all our prisons via our functions above"
   ]
  },
  {
   "cell_type": "code",
   "execution_count": 12,
   "metadata": {},
   "outputs": [
    {
     "name": "stdout",
     "output_type": "stream",
     "text": [
      "Working on results 1 of 1527\n",
      "Working on results 101 of 1527\n",
      "Working on results 201 of 1527\n",
      "Working on results 301 of 1527\n",
      "Working on results 401 of 1527\n",
      "Working on results 501 of 1527\n",
      "Working on results 601 of 1527\n",
      "Working on results 701 of 1527\n",
      "Working on results 801 of 1527\n",
      "Working on results 901 of 1527\n",
      "Working on results 1001 of 1527\n",
      "Requests error in your get_single_facility_detail function.\n",
      "Working on results 1101 of 1527\n",
      "Working on results 1201 of 1527\n",
      "Requests error in your get_single_facility_detail function.\n",
      "Requests error in your get_single_facility_detail function.\n",
      "Requests error in your get_single_facility_detail function.\n",
      "Requests error in your get_single_facility_detail function.\n",
      "Requests error in your get_single_facility_detail function.\n",
      "Working on results 1301 of 1527\n",
      "Requests error in your get_single_facility_detail function.\n",
      "Requests error in your get_single_facility_detail function.\n",
      "Requests error in your get_single_facility_detail function.\n",
      "Requests error in your get_single_facility_detail function.\n",
      "Requests error in your get_single_facility_detail function.\n",
      "Requests error in your get_single_facility_detail function.\n",
      "Working on results 1401 of 1527\n",
      "Requests error in your get_single_facility_detail function.\n",
      "Requests error in your get_single_facility_detail function.\n",
      "Requests error in your get_single_facility_detail function.\n",
      "Requests error in your get_single_facility_detail function.\n",
      "Working on results 1501 of 1527\n"
     ]
    }
   ],
   "source": [
    "#hrmmm, not sure where to store/encapsulate subdirectory to save results in\n",
    "subdirectory = 'facility-detail-results-' + datetime.now(timezone.utc).strftime(\"%Y-%m-%d\")\n",
    "if not Path(subdirectory).exists():\n",
    "    os.mkdir(subdirectory)\n",
    "\n",
    "old_working_directory = os.getcwd()\n",
    "\n",
    "os.chdir(Path(subdirectory))\n",
    "\n",
    "prison_results = dict()\n",
    "\n",
    "prison_errors = list()\n",
    "\n",
    "#query API/store in dictionary keyed by facility ID, save JSON text file\n",
    "# for i loop so we can occasionally report progress\n",
    "for i in range(0, prison_fac_ids.size):\n",
    "    \n",
    "    fac_id = prison_fac_ids.iloc[i]\n",
    "    try:\n",
    "        prison_results[fac_id] = get_single_facility_detail(fac_id)\n",
    "    except:\n",
    "        prison_errors.append(fac_id)\n",
    "        \n",
    "    if i % 100 == 0:\n",
    "        print('Working on results {0} of {1}'.format(i+1, prison_fac_ids.size))\n",
    "\n",
    "os.chdir(old_working_directory)"
   ]
  },
  {
   "cell_type": "markdown",
   "metadata": {},
   "source": [
    "And view the Facility IDs that drew errors:"
   ]
  },
  {
   "cell_type": "code",
   "execution_count": 13,
   "metadata": {},
   "outputs": [
    {
     "data": {
      "text/plain": [
       "[110011634794,\n",
       " 110006663039,\n",
       " 110034245458,\n",
       " 110034825027,\n",
       " 110035309216,\n",
       " 110015817339,\n",
       " 110005079333,\n",
       " 110011692034,\n",
       " 110005022661,\n",
       " 110006126441,\n",
       " 110039172631,\n",
       " 110021021124,\n",
       " 110005358059,\n",
       " 110005393467,\n",
       " 110005364658,\n",
       " 110015534698]"
      ]
     },
     "execution_count": 13,
     "metadata": {},
     "output_type": "execute_result"
    }
   ],
   "source": [
    "prison_errors"
   ]
  },
  {
   "cell_type": "markdown",
   "metadata": {},
   "source": [
    "#### Here we're copying/pasting the same code from above to rerun on the errors...\n",
    "[inefficient]..."
   ]
  },
  {
   "cell_type": "code",
   "execution_count": 21,
   "metadata": {},
   "outputs": [
    {
     "name": "stdout",
     "output_type": "stream",
     "text": [
      "Requests error in your get_single_facility_detail function.\n",
      "Working on results 1 of 1527\n",
      "Requests error in your get_single_facility_detail function.\n",
      "Requests error in your get_single_facility_detail function.\n",
      "Requests error in your get_single_facility_detail function.\n",
      "Requests error in your get_single_facility_detail function.\n",
      "Requests error in your get_single_facility_detail function.\n",
      "Requests error in your get_single_facility_detail function.\n",
      "Requests error in your get_single_facility_detail function.\n",
      "Requests error in your get_single_facility_detail function.\n",
      "Requests error in your get_single_facility_detail function.\n",
      "Requests error in your get_single_facility_detail function.\n",
      "Requests error in your get_single_facility_detail function.\n",
      "Requests error in your get_single_facility_detail function.\n",
      "Requests error in your get_single_facility_detail function.\n",
      "Requests error in your get_single_facility_detail function.\n",
      "Requests error in your get_single_facility_detail function.\n"
     ]
    }
   ],
   "source": [
    "#hrmmm, not sure where to store/encapsulate subdirectory to save results in\n",
    "subdirectory = 'facility-detail-results-' + datetime.now(timezone.utc).strftime(\"%Y-%m-%d\")\n",
    "if not Path(subdirectory).exists():\n",
    "    os.mkdir(subdirectory)\n",
    "\n",
    "old_working_directory = os.getcwd()\n",
    "\n",
    "os.chdir(Path(subdirectory))\n",
    "\n",
    "#danger don't overwrite!!!\n",
    "#prison_results = dict()\n",
    "\n",
    "prison_repeat_errors = list()\n",
    "\n",
    "#query API/store in dictionary keyed by facility ID, save JSON text file\n",
    "# for i loop so we can occasionally report progress\n",
    "for i in range(0, len(prison_errors)):\n",
    "    \n",
    "    fac_id = prison_errors[i]\n",
    "    try:\n",
    "        prison_results[fac_id] = get_single_facility_detail(fac_id, verbose = True) #verbose to see invid\n",
    "    except:\n",
    "        prison_repeat_errors.append(fac_id)\n",
    "        \n",
    "    if i % 100 == 0:\n",
    "        print('Working on results {0} of {1}'.format(i+1, prison_fac_ids.size))\n",
    "\n",
    "os.chdir(old_working_directory)"
   ]
  },
  {
   "cell_type": "code",
   "execution_count": 18,
   "metadata": {},
   "outputs": [
    {
     "data": {
      "text/plain": [
       "[110011634794,\n",
       " 110006663039,\n",
       " 110034245458,\n",
       " 110034825027,\n",
       " 110035309216,\n",
       " 110015817339,\n",
       " 110005079333,\n",
       " 110011692034,\n",
       " 110005022661,\n",
       " 110006126441,\n",
       " 110039172631,\n",
       " 110021021124,\n",
       " 110005358059,\n",
       " 110005393467,\n",
       " 110005364658,\n",
       " 110015534698]"
      ]
     },
     "execution_count": 18,
     "metadata": {},
     "output_type": "execute_result"
    }
   ],
   "source": [
    "prison_repeat_errors"
   ]
  },
  {
   "cell_type": "markdown",
   "metadata": {},
   "source": [
    "We've retained the the error output below, and confirmed with further testing and from offline manual inspection: it appears ECHO's API is returning malformed JSON for certain records.\n",
    "\n",
    "Because we're collecting this data for exploration, we'll leave this unsolved for now."
   ]
  },
  {
   "cell_type": "code",
   "execution_count": 22,
   "metadata": {},
   "outputs": [
    {
     "name": "stdout",
     "output_type": "stream",
     "text": [
      "Requests error in your get_single_facility_detail function.\n"
     ]
    },
    {
     "ename": "JSONDecodeError",
     "evalue": "Expecting property name enclosed in double quotes: line 1315 column 1 (char 28544)",
     "output_type": "error",
     "traceback": [
      "\u001b[1;31m---------------------------------------------------------------------------\u001b[0m",
      "\u001b[1;31mJSONDecodeError\u001b[0m                           Traceback (most recent call last)",
      "\u001b[1;32m<ipython-input-22-cc0608e5391a>\u001b[0m in \u001b[0;36m<module>\u001b[1;34m\u001b[0m\n\u001b[1;32m----> 1\u001b[1;33m \u001b[0mget_single_facility_detail\u001b[0m\u001b[1;33m(\u001b[0m\u001b[1;36m110005079333\u001b[0m\u001b[1;33m,\u001b[0m \u001b[0mverbose\u001b[0m \u001b[1;33m=\u001b[0m \u001b[1;32mTrue\u001b[0m\u001b[1;33m)\u001b[0m\u001b[1;33m\u001b[0m\u001b[1;33m\u001b[0m\u001b[0m\n\u001b[0m",
      "\u001b[1;32m<ipython-input-20-e44d5efcd54a>\u001b[0m in \u001b[0;36mget_single_facility_detail\u001b[1;34m(facid, verbose)\u001b[0m\n\u001b[0;32m     28\u001b[0m     \u001b[1;32mtry\u001b[0m\u001b[1;33m:\u001b[0m\u001b[1;33m\u001b[0m\u001b[1;33m\u001b[0m\u001b[0m\n\u001b[0;32m     29\u001b[0m         \u001b[0mresponse\u001b[0m\u001b[1;33m.\u001b[0m\u001b[0mraise_for_status\u001b[0m\u001b[1;33m(\u001b[0m\u001b[1;33m)\u001b[0m\u001b[1;33m\u001b[0m\u001b[1;33m\u001b[0m\u001b[0m\n\u001b[1;32m---> 30\u001b[1;33m         \u001b[0mresult\u001b[0m \u001b[1;33m=\u001b[0m \u001b[0mresponse\u001b[0m\u001b[1;33m.\u001b[0m\u001b[0mjson\u001b[0m\u001b[1;33m(\u001b[0m\u001b[1;33m)\u001b[0m \u001b[1;31m#returns dictionary, #API results in JSON\u001b[0m\u001b[1;33m\u001b[0m\u001b[1;33m\u001b[0m\u001b[0m\n\u001b[0m\u001b[0;32m     31\u001b[0m     \u001b[1;32mexcept\u001b[0m\u001b[1;33m:\u001b[0m\u001b[1;33m\u001b[0m\u001b[1;33m\u001b[0m\u001b[0m\n\u001b[0;32m     32\u001b[0m         \u001b[0mprint\u001b[0m\u001b[1;33m(\u001b[0m\u001b[1;34m\"Requests error in your get_single_facility_detail function.\"\u001b[0m\u001b[1;33m)\u001b[0m\u001b[1;33m\u001b[0m\u001b[1;33m\u001b[0m\u001b[0m\n",
      "\u001b[1;32m~\\Anaconda3\\lib\\site-packages\\requests\\models.py\u001b[0m in \u001b[0;36mjson\u001b[1;34m(self, **kwargs)\u001b[0m\n\u001b[0;32m    887\u001b[0m                 \u001b[1;32mtry\u001b[0m\u001b[1;33m:\u001b[0m\u001b[1;33m\u001b[0m\u001b[1;33m\u001b[0m\u001b[0m\n\u001b[0;32m    888\u001b[0m                     return complexjson.loads(\n\u001b[1;32m--> 889\u001b[1;33m                         \u001b[0mself\u001b[0m\u001b[1;33m.\u001b[0m\u001b[0mcontent\u001b[0m\u001b[1;33m.\u001b[0m\u001b[0mdecode\u001b[0m\u001b[1;33m(\u001b[0m\u001b[0mencoding\u001b[0m\u001b[1;33m)\u001b[0m\u001b[1;33m,\u001b[0m \u001b[1;33m**\u001b[0m\u001b[0mkwargs\u001b[0m\u001b[1;33m\u001b[0m\u001b[1;33m\u001b[0m\u001b[0m\n\u001b[0m\u001b[0;32m    890\u001b[0m                     )\n\u001b[0;32m    891\u001b[0m                 \u001b[1;32mexcept\u001b[0m \u001b[0mUnicodeDecodeError\u001b[0m\u001b[1;33m:\u001b[0m\u001b[1;33m\u001b[0m\u001b[1;33m\u001b[0m\u001b[0m\n",
      "\u001b[1;32m~\\Anaconda3\\lib\\json\\__init__.py\u001b[0m in \u001b[0;36mloads\u001b[1;34m(s, encoding, cls, object_hook, parse_float, parse_int, parse_constant, object_pairs_hook, **kw)\u001b[0m\n\u001b[0;32m    346\u001b[0m             \u001b[0mparse_int\u001b[0m \u001b[1;32mis\u001b[0m \u001b[1;32mNone\u001b[0m \u001b[1;32mand\u001b[0m \u001b[0mparse_float\u001b[0m \u001b[1;32mis\u001b[0m \u001b[1;32mNone\u001b[0m \u001b[1;32mand\u001b[0m\u001b[1;33m\u001b[0m\u001b[1;33m\u001b[0m\u001b[0m\n\u001b[0;32m    347\u001b[0m             parse_constant is None and object_pairs_hook is None and not kw):\n\u001b[1;32m--> 348\u001b[1;33m         \u001b[1;32mreturn\u001b[0m \u001b[0m_default_decoder\u001b[0m\u001b[1;33m.\u001b[0m\u001b[0mdecode\u001b[0m\u001b[1;33m(\u001b[0m\u001b[0ms\u001b[0m\u001b[1;33m)\u001b[0m\u001b[1;33m\u001b[0m\u001b[1;33m\u001b[0m\u001b[0m\n\u001b[0m\u001b[0;32m    349\u001b[0m     \u001b[1;32mif\u001b[0m \u001b[0mcls\u001b[0m \u001b[1;32mis\u001b[0m \u001b[1;32mNone\u001b[0m\u001b[1;33m:\u001b[0m\u001b[1;33m\u001b[0m\u001b[1;33m\u001b[0m\u001b[0m\n\u001b[0;32m    350\u001b[0m         \u001b[0mcls\u001b[0m \u001b[1;33m=\u001b[0m \u001b[0mJSONDecoder\u001b[0m\u001b[1;33m\u001b[0m\u001b[1;33m\u001b[0m\u001b[0m\n",
      "\u001b[1;32m~\\Anaconda3\\lib\\json\\decoder.py\u001b[0m in \u001b[0;36mdecode\u001b[1;34m(self, s, _w)\u001b[0m\n\u001b[0;32m    335\u001b[0m \u001b[1;33m\u001b[0m\u001b[0m\n\u001b[0;32m    336\u001b[0m         \"\"\"\n\u001b[1;32m--> 337\u001b[1;33m         \u001b[0mobj\u001b[0m\u001b[1;33m,\u001b[0m \u001b[0mend\u001b[0m \u001b[1;33m=\u001b[0m \u001b[0mself\u001b[0m\u001b[1;33m.\u001b[0m\u001b[0mraw_decode\u001b[0m\u001b[1;33m(\u001b[0m\u001b[0ms\u001b[0m\u001b[1;33m,\u001b[0m \u001b[0midx\u001b[0m\u001b[1;33m=\u001b[0m\u001b[0m_w\u001b[0m\u001b[1;33m(\u001b[0m\u001b[0ms\u001b[0m\u001b[1;33m,\u001b[0m \u001b[1;36m0\u001b[0m\u001b[1;33m)\u001b[0m\u001b[1;33m.\u001b[0m\u001b[0mend\u001b[0m\u001b[1;33m(\u001b[0m\u001b[1;33m)\u001b[0m\u001b[1;33m)\u001b[0m\u001b[1;33m\u001b[0m\u001b[1;33m\u001b[0m\u001b[0m\n\u001b[0m\u001b[0;32m    338\u001b[0m         \u001b[0mend\u001b[0m \u001b[1;33m=\u001b[0m \u001b[0m_w\u001b[0m\u001b[1;33m(\u001b[0m\u001b[0ms\u001b[0m\u001b[1;33m,\u001b[0m \u001b[0mend\u001b[0m\u001b[1;33m)\u001b[0m\u001b[1;33m.\u001b[0m\u001b[0mend\u001b[0m\u001b[1;33m(\u001b[0m\u001b[1;33m)\u001b[0m\u001b[1;33m\u001b[0m\u001b[1;33m\u001b[0m\u001b[0m\n\u001b[0;32m    339\u001b[0m         \u001b[1;32mif\u001b[0m \u001b[0mend\u001b[0m \u001b[1;33m!=\u001b[0m \u001b[0mlen\u001b[0m\u001b[1;33m(\u001b[0m\u001b[0ms\u001b[0m\u001b[1;33m)\u001b[0m\u001b[1;33m:\u001b[0m\u001b[1;33m\u001b[0m\u001b[1;33m\u001b[0m\u001b[0m\n",
      "\u001b[1;32m~\\Anaconda3\\lib\\json\\decoder.py\u001b[0m in \u001b[0;36mraw_decode\u001b[1;34m(self, s, idx)\u001b[0m\n\u001b[0;32m    351\u001b[0m         \"\"\"\n\u001b[0;32m    352\u001b[0m         \u001b[1;32mtry\u001b[0m\u001b[1;33m:\u001b[0m\u001b[1;33m\u001b[0m\u001b[1;33m\u001b[0m\u001b[0m\n\u001b[1;32m--> 353\u001b[1;33m             \u001b[0mobj\u001b[0m\u001b[1;33m,\u001b[0m \u001b[0mend\u001b[0m \u001b[1;33m=\u001b[0m \u001b[0mself\u001b[0m\u001b[1;33m.\u001b[0m\u001b[0mscan_once\u001b[0m\u001b[1;33m(\u001b[0m\u001b[0ms\u001b[0m\u001b[1;33m,\u001b[0m \u001b[0midx\u001b[0m\u001b[1;33m)\u001b[0m\u001b[1;33m\u001b[0m\u001b[1;33m\u001b[0m\u001b[0m\n\u001b[0m\u001b[0;32m    354\u001b[0m         \u001b[1;32mexcept\u001b[0m \u001b[0mStopIteration\u001b[0m \u001b[1;32mas\u001b[0m \u001b[0merr\u001b[0m\u001b[1;33m:\u001b[0m\u001b[1;33m\u001b[0m\u001b[1;33m\u001b[0m\u001b[0m\n\u001b[0;32m    355\u001b[0m             \u001b[1;32mraise\u001b[0m \u001b[0mJSONDecodeError\u001b[0m\u001b[1;33m(\u001b[0m\u001b[1;34m\"Expecting value\"\u001b[0m\u001b[1;33m,\u001b[0m \u001b[0ms\u001b[0m\u001b[1;33m,\u001b[0m \u001b[0merr\u001b[0m\u001b[1;33m.\u001b[0m\u001b[0mvalue\u001b[0m\u001b[1;33m)\u001b[0m \u001b[1;32mfrom\u001b[0m \u001b[1;32mNone\u001b[0m\u001b[1;33m\u001b[0m\u001b[1;33m\u001b[0m\u001b[0m\n",
      "\u001b[1;31mJSONDecodeError\u001b[0m: Expecting property name enclosed in double quotes: line 1315 column 1 (char 28544)"
     ]
    }
   ],
   "source": [
    "get_single_facility_detail(110005079333, verbose = True)"
   ]
  }
 ],
 "metadata": {
  "kernelspec": {
   "display_name": "Python 3",
   "language": "python",
   "name": "python3"
  },
  "language_info": {
   "codemirror_mode": {
    "name": "ipython",
    "version": 3
   },
   "file_extension": ".py",
   "mimetype": "text/x-python",
   "name": "python",
   "nbconvert_exporter": "python",
   "pygments_lexer": "ipython3",
   "version": "3.7.1"
  }
 },
 "nbformat": 4,
 "nbformat_minor": 2
}
